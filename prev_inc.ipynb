{
 "cells": [
  {
   "cell_type": "markdown",
   "metadata": {},
   "source": [
    "Process prevalence data for input into models"
   ]
  },
  {
   "cell_type": "code",
   "execution_count": 18,
   "metadata": {},
   "outputs": [],
   "source": [
    "import numpy as np\n",
    "import pandas as pd\n",
    "import matplotlib.pyplot as plt"
   ]
  },
  {
   "cell_type": "code",
   "execution_count": 41,
   "metadata": {},
   "outputs": [
    {
     "name": "stderr",
     "output_type": "stream",
     "text": [
      "/Users/carlwhitfield/opt/anaconda3/lib/python3.7/site-packages/pandas/core/indexing.py:670: SettingWithCopyWarning: \n",
      "A value is trying to be set on a copy of a slice from a DataFrame\n",
      "\n",
      "See the caveats in the documentation: https://pandas.pydata.org/pandas-docs/stable/user_guide/indexing.html#returning-a-view-versus-a-copy\n",
      "  self._setitem_with_indexer(indexer, value)\n"
     ]
    }
   ],
   "source": [
    "df = pd.read_csv('UKPrevalence.csv')\n",
    "Nd = len(df[\"incidence\"])\n",
    "df[\"prevalence\"] = np.zeros(Nd)\n",
    "df[\"prevalence\"].iloc[0:14] = df[\"cumulative incidence\"][0:14].to_numpy()\n",
    "df[\"prevalence\"].iloc[14:Nd] = df[\"cumulative incidence\"][14:Nd].to_numpy() -\\\n",
    "                              df[\"cumulative incidence\"][0:Nd-14].to_numpy()\n",
    "df[\"UK population\"] = df[\"cumulative incidence\"]/df[\"cumulative fraction\"]"
   ]
  },
  {
   "cell_type": "code",
   "execution_count": 43,
   "metadata": {},
   "outputs": [
    {
     "data": {
      "text/plain": [
       "[<matplotlib.lines.Line2D at 0x7fb5b7fd0b90>]"
      ]
     },
     "execution_count": 43,
     "metadata": {},
     "output_type": "execute_result"
    },
    {
     "data": {
      "image/png": "[encoded data removed]",
      "text/plain": [
       "<Figure size 432x288 with 1 Axes>"
      ]
     },
     "metadata": {
      "needs_background": "light"
     },
     "output_type": "display_data"
    }
   ],
   "source": [
    "plt.plot(df[\"incidence\"][24:116]/df[\"UK population\"][24:116])\n",
    "plt.plot(df[\"prevalence\"][24:116]/df[\"UK population\"][24:116])"
   ]
  },
  {
   "cell_type": "code",
   "execution_count": 39,
   "metadata": {},
   "outputs": [
    {
     "name": "stdout",
     "output_type": "stream",
     "text": [
      "01/03/2020 31/05/2020\n"
     ]
    }
   ],
   "source": [
    "print(df[\"Date\"][24],df[\"Date\"][115])"
   ]
  },
  {
   "cell_type": "code",
   "execution_count": 44,
   "metadata": {},
   "outputs": [],
   "source": [
    "df1 = pd.DataFrame({\"Incidence\": df[\"incidence\"][24:116].to_numpy()/\\\n",
    "                                 df[\"UK population\"][24:116].to_numpy(),\\\n",
    "                    \"Prevalence\": df[\"prevalence\"][24:116].to_numpy()/\\\n",
    "                                  df[\"UK population\"][24:116]})\n",
    "df1.to_csv(\"inc_prev.csv\")"
   ]
  },
  {
   "cell_type": "code",
   "execution_count": null,
   "metadata": {},
   "outputs": [],
   "source": []
  }
 ],
 "metadata": {
  "kernelspec": {
   "display_name": "Python 3",
   "language": "python",
   "name": "python3"
  },
  "language_info": {
   "codemirror_mode": {
    "name": "ipython",
    "version": 3
   },
   "file_extension": ".py",
   "mimetype": "text/x-python",
   "name": "python",
   "nbconvert_exporter": "python",
   "pygments_lexer": "ipython3",
   "version": "3.7.6"
  }
 },
 "nbformat": 4,
 "nbformat_minor": 4
}
