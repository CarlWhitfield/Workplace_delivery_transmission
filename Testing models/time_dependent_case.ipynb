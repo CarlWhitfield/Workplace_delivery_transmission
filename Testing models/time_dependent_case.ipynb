{
 "cells": [
  {
   "cell_type": "code",
   "execution_count": 8,
   "metadata": {},
   "outputs": [],
   "source": [
    "import numpy as np\n",
    "import matplotlib.pyplot as plt\n",
    "import scipy as sp\n",
    "import scipy.stats as stats\n",
    "import pandas as pd"
   ]
  },
  {
   "cell_type": "code",
   "execution_count": 13,
   "metadata": {},
   "outputs": [],
   "source": [
    "fittedPCR = pd.read_csv('~/Documents/Github/pcr-profile/PCR_curve_summary.csv')\n",
    "fittedLFD = pd.read_csv('~/Documents/Github/pcr-profile/LFT_curve_summary.csv')\n",
    "t = fittedPCR['days_since_infection'].to_numpy()\n",
    "PCRpos = fittedPCR['median'].to_numpy()\n",
    "LFDpos = fittedLFD['median'].to_numpy()\n",
    "\n",
    "symponset = 4.84\n",
    "def infectivity_profile():\n",
    "    imean = 5.0\n",
    "    istd = 1.92\n",
    "    kguess = (istd/imean)**(-1.086)\n",
    "    cguess = imean / sp.special.gamma(1 + 1/kguess)\n",
    "    f = stats.weibull_min.pdf(t, kguess, scale=cguess)\n",
    "    return f\n",
    "\n",
    "def symp_profile():\n",
    "    alpha = 4.84**2/2.8**2\n",
    "    beta = 4.84/2.8**2\n",
    "    g = stats.gamma.pdf(t, alpha, scale=1/beta)\n",
    "    return g\n",
    "\n",
    "def infectivity_scale(ts, tt, td, tpos, Psisol, tisol):\n",
    "    t_result = tt + td\n",
    "    t_result = np.append(t_result, ts)\n",
    "    t_order = np.argsort(t_result)\n",
    "    t_prob = np.append(tpos, Psisol)\n",
    "    t_result = t_result[t_order]\n",
    "    t_prob = t_prob[t_order]\n",
    "    f_scale = np.ones(len(t))\n",
    "    Pmissed = 1\n",
    "    for k in np.arange(len(t_result)):\n",
    "        Ph = t_prob[k]*Pmissed\n",
    "        trange = ((t >= t_result[k]) & (t < t_result[k] + tisol))\n",
    "        f_scale[trange] -= Ph\n",
    "        Pmissed *= (1 - t_prob[k])\n",
    "    return f_scale\n",
    "\n",
    "def infectivity_scale_no_test(ts, Psisol, tisol):\n",
    "    f_scale = np.ones(len(t))\n",
    "    trange = (t >= ts)\n",
    "    f_scale[trange] -= Psisol\n",
    "\n",
    "    return f_scale\n",
    "    \n",
    "def integrate_f(tauf, td, Psisol, tisol, ttype = 'PCR'):\n",
    "    dt = t[1]-t[0]\n",
    "    idt = 1/dt\n",
    "    t0 = np.arange(0,tauf,dt)\n",
    "    ggen = symp_profile()\n",
    "    gint = np.zeros(len(t))\n",
    "    for i in np.arange(len(t)):\n",
    "        tsh = t[i]\n",
    "        iprof = infectivity_profile()\n",
    "        if tauf > 0:\n",
    "            fint = np.zeros(len(t0))\n",
    "            for j in np.arange(len(t0)):\n",
    "                t0h = t0[j]\n",
    "                tt = np.arange(t0h, np.max(t)-td, tauf)\n",
    "                itt = np.array(np.round(tt*idt),dtype=np.int)\n",
    "                if ttype == 'PCR':\n",
    "                    tpos = PCRpos[itt]\n",
    "                else:\n",
    "                    tpos = LFDpos[itt]\n",
    "                fscale = infectivity_scale(tsh, tt, td, tpos, Psisol, tisol)\n",
    "                fh = iprof*fscale\n",
    "                fint[j] = np.trapz(fh,t)\n",
    "                \n",
    "            gint[i] = np.trapz(fint,t0)/tauf\n",
    "        else:\n",
    "            fscale = infectivity_scale_no_test(tsh, Psisol, tisol)\n",
    "            fh = iprof*fscale\n",
    "            gint[i] = np.trapz(fh,t)\n",
    "    F = np.trapz(ggen*gint,t)\n",
    "    \n",
    "    return F"
   ]
  },
  {
   "cell_type": "code",
   "execution_count": 14,
   "metadata": {},
   "outputs": [
    {
     "name": "stdout",
     "output_type": "stream",
     "text": [
      "0 0 0.13264266344287934\n",
      "0 1 0.23265117250262785\n",
      "0 2 0.31823920254635296\n",
      "0 3 0.3843809590405966\n",
      "0 4 0.4360421016621078\n",
      "0 5 0.4769898910154624\n",
      "0 6 0.5092624829122554\n",
      "0 7 0.5346784454364906\n",
      "0 8 0.5548508383264881\n",
      "0 9 0.5711526515192857\n",
      "0 10 0.5845348481326472\n",
      "0 11 0.5956950779514361\n",
      "0 12 0.6051398312109052\n",
      "0 13 0.6132355321135526\n",
      "1 0 0.23866120099430915\n",
      "1 1 0.34457615062785657\n",
      "1 2 0.4232508254084168\n",
      "1 3 0.477484065394689\n",
      "1 4 0.5177485883501651\n",
      "1 5 0.5484258253516842\n",
      "1 6 0.5718130130481639\n",
      "1 7 0.5898451756003861\n",
      "1 8 0.6040586808480515\n",
      "1 9 0.6154848895863768\n",
      "1 10 0.6248458064576642\n",
      "1 11 0.6326483613243118\n",
      "1 12 0.6392507641141607\n",
      "1 13 0.6449099903349813\n",
      "2 0 0.35711878089611465\n",
      "2 1 0.45594512370817825\n",
      "2 2 0.5190120855582782\n",
      "2 3 0.5588427325090211\n",
      "2 4 0.5871490887848347\n",
      "2 5 0.607912145270416\n",
      "2 6 0.6233381581908995\n",
      "2 7 0.6351362585312259\n",
      "2 8 0.6443760087740591\n",
      "2 9 0.6517831076977992\n",
      "2 10 0.6578461028818072\n",
      "2 11 0.6628988901609254\n",
      "2 12 0.6671743545545683\n",
      "2 13 0.6708390403887674\n",
      "3 0 0.20678854532859606\n",
      "3 1 0.33545894343945726\n",
      "3 2 0.4203004878797435\n",
      "3 3 0.4803945511306974\n",
      "3 4 0.5213900384473769\n",
      "3 5 0.5515040437025084\n",
      "3 6 0.5743607114564285\n",
      "3 7 0.5920587538206928\n",
      "3 8 0.606005752239257\n",
      "3 9 0.6172323489883582\n",
      "3 10 0.6264336176207372\n",
      "3 11 0.6341037552764781\n",
      "3 12 0.6405941952089417\n",
      "3 13 0.6461574613434026\n"
     ]
    }
   ],
   "source": [
    "Ttype = ['PCR','PCR','PCR','LFD']\n",
    "taud = [0,1,2,0]\n",
    "tauisol = 10.0\n",
    "Psisol = 0.5\n",
    "tauf = np.arange(1,15)\n",
    "Ftest_isol = np.zeros((len(Ttype),len(tauf)))\n",
    "for i in np.arange(len(Ttype)):\n",
    "    for j in np.arange(len(tauf)):\n",
    "        Ftest_isol[i,j] = integrate_f(tauf[j], taud[i], Psisol, tauisol, Ttype[i])\n",
    "        \n",
    "        \n"
   ]
  },
  {
   "cell_type": "code",
   "execution_count": 15,
   "metadata": {},
   "outputs": [
    {
     "data": {
      "image/png": "[encoded data removed]",
      "text/plain": [
       "<Figure size 432x288 with 1 Axes>"
      ]
     },
     "metadata": {
      "needs_background": "light"
     },
     "output_type": "display_data"
    }
   ],
   "source": [
    "Fbaseline = integrate_f(0, 0, Psisol, tauisol)\n",
    "Colors = [[0,0,1,0.4],[0,0,1,1],[0,0,1,0.4],[1,0,0,1]]\n",
    "Style = ['-+','-o','-x','-s']\n",
    "for i in np.arange(len(Ttype)):\n",
    "    plt.plot(tauf, 1-(Ftest_isol[i,:]/Fbaseline), Style[i], c=Colors[i], label='%s -- %d day delay'%(Ttype[i],taud[i]))\n",
    "plt.legend()\n",
    "plt.xlim(1,14)\n",
    "plt.ylim(0,1.0)\n",
    "plt.xlabel('Days between test')\n",
    "plt.ylabel('Reduction in infectious potential')\n",
    "plt.title('(a) With symptomatic isolation in 50% of pop.')\n",
    "plt.savefig('RPI_mean.png')"
   ]
  },
  {
   "cell_type": "code",
   "execution_count": 16,
   "metadata": {},
   "outputs": [
    {
     "name": "stdout",
     "output_type": "stream",
     "text": [
      "0 0\n",
      "0 1\n",
      "0 2\n",
      "0 3\n",
      "0 4\n",
      "0 5\n",
      "0 6\n",
      "0 7\n",
      "0 8\n",
      "0 9\n",
      "0 10\n",
      "0 11\n",
      "0 12\n",
      "0 13\n",
      "1 0\n",
      "1 1\n",
      "1 2\n",
      "1 3\n",
      "1 4\n",
      "1 5\n",
      "1 6\n",
      "1 7\n",
      "1 8\n",
      "1 9\n",
      "1 10\n",
      "1 11\n",
      "1 12\n",
      "1 13\n",
      "2 0\n",
      "2 1\n",
      "2 2\n",
      "2 3\n",
      "2 4\n",
      "2 5\n",
      "2 6\n",
      "2 7\n",
      "2 8\n",
      "2 9\n",
      "2 10\n",
      "2 11\n",
      "2 12\n",
      "2 13\n",
      "3 0\n",
      "3 1\n",
      "3 2\n",
      "3 3\n",
      "3 4\n",
      "3 5\n",
      "3 6\n",
      "3 7\n",
      "3 8\n",
      "3 9\n",
      "3 10\n",
      "3 11\n",
      "3 12\n",
      "3 13\n"
     ]
    }
   ],
   "source": [
    "Ttype = ['PCR','PCR','PCR','LFD']\n",
    "taud = [0,1,2,0]\n",
    "tauisol = 10.0\n",
    "Psisol = 0.0\n",
    "tauf = np.arange(1,15)\n",
    "Ftest = np.zeros((len(Ttype),len(tauf)))\n",
    "for i in np.arange(len(Ttype)):\n",
    "    for j in np.arange(len(tauf)):\n",
    "        print(i,j)\n",
    "        Ftest[i,j] = integrate_f(tauf[j], taud[i], Psisol, tauisol, Ttype[i])"
   ]
  },
  {
   "cell_type": "code",
   "execution_count": 17,
   "metadata": {},
   "outputs": [
    {
     "name": "stdout",
     "output_type": "stream",
     "text": [
      "[[0.14997972 0.28005447 0.3982854  0.49322168 0.56914445 0.63038441\n",
      "  0.67925238 0.71801483 0.74888577 0.7738819  0.79441641 0.81154458\n",
      "  0.82604053 0.83846602]\n",
      " [0.28224483 0.42768886 0.54176517 0.62330231 0.68497125 0.73256163\n",
      "  0.76912773 0.79743103 0.81978919 0.83777953 0.85252225 0.86481132\n",
      "  0.87521024 0.88412365]\n",
      " [0.44234143 0.58509489 0.68101654 0.74338573 0.78831668 0.82156017\n",
      "  0.84636987 0.865395   0.88031125 0.89227351 0.90206595 0.91022689\n",
      "  0.91713235 0.92305133]\n",
      " [0.24545085 0.42398648 0.54688552 0.63604352 0.69788552 0.74365284\n",
      "  0.77856096 0.80567892 0.82708777 0.84433972 0.85848461 0.87027663\n",
      "  0.88025513 0.88880818]]\n"
     ]
    },
    {
     "data": {
      "image/png": "[encoded data removed]",
      "text/plain": [
       "<Figure size 432x288 with 1 Axes>"
      ]
     },
     "metadata": {
      "needs_background": "light"
     },
     "output_type": "display_data"
    }
   ],
   "source": [
    "print(Ftest)\n",
    "Fbaseline = integrate_f(0, 0, Psisol, tauisol)\n",
    "Colors = [[0,0,1,0.4],[0,0,1,1],[0,0,1,0.4],[1,0,0,1]]\n",
    "Style = ['-+','-o','-x','-s']\n",
    "for i in np.arange(len(Ttype)):\n",
    "    plt.plot(tauf, 1-(Ftest[i,:]/Fbaseline), Style[i], c=Colors[i], label='%s -- %d day delay'%(Ttype[i],taud[i]))\n",
    "plt.legend()\n",
    "plt.xlim(1,14)\n",
    "plt.ylim(0,1.0)\n",
    "plt.xlabel('Days between test')\n",
    "plt.ylabel('Reduction in infectious potential')\n",
    "plt.title('(b) With no symptomatic isolation')\n",
    "plt.savefig('RPI_mean_nosymp.png')"
   ]
  },
  {
   "cell_type": "code",
   "execution_count": null,
   "metadata": {},
   "outputs": [],
   "source": []
  },
  {
   "cell_type": "code",
   "execution_count": null,
   "metadata": {},
   "outputs": [],
   "source": []
  },
  {
   "cell_type": "code",
   "execution_count": null,
   "metadata": {},
   "outputs": [],
   "source": []
  }
 ],
 "metadata": {
  "kernelspec": {
   "display_name": "Python 3",
   "language": "python",
   "name": "python3"
  },
  "language_info": {
   "codemirror_mode": {
    "name": "ipython",
    "version": 3
   },
   "file_extension": ".py",
   "mimetype": "text/x-python",
   "name": "python",
   "nbconvert_exporter": "python",
   "pygments_lexer": "ipython3",
   "version": "3.7.6"
  }
 },
 "nbformat": 4,
 "nbformat_minor": 4
}
