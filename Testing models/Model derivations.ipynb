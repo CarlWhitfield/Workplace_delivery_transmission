{
 "cells": [
  {
   "cell_type": "code",
   "execution_count": 2,
   "metadata": {},
   "outputs": [],
   "source": [
    "import numpy as np\n",
    "import matplotlib.pyplot as plt\n",
    "import scipy as sp\n",
    "import scipy.stats as stats\n",
    "import pandas as pd\n",
    "plt.rcParams.update({'font.size': 12})"
   ]
  },
  {
   "cell_type": "code",
   "execution_count": 2,
   "metadata": {},
   "outputs": [],
   "source": [
    "symponset = 4.84\n",
    "\n",
    "# alpha = 97.19\n",
    "# beta = 3.718\n",
    "# shift = 25.63\n",
    "# mean = alpha/beta - shift\n",
    "# var = alpha/beta**2\n",
    "# print(mean,\" \",var)\n"
   ]
  },
  {
   "cell_type": "markdown",
   "metadata": {},
   "source": [
    "Infectivity gamma distribution from Ashcroft 2020 (He et al correction)"
   ]
  },
  {
   "cell_type": "code",
   "execution_count": 3,
   "metadata": {},
   "outputs": [],
   "source": [
    "t = np.arange(0,31)\n",
    "# f = stats.gamma.pdf(t + shift - symponset, alpha, scale=1/beta)\\\n",
    "#    /(1-stats.gamma.cdf(shift- symponset, alpha, scale=1/beta))"
   ]
  },
  {
   "cell_type": "markdown",
   "metadata": {},
   "source": [
    "To turn this into a flat profile, ensure that same % is presymtpomatic"
   ]
  },
  {
   "cell_type": "code",
   "execution_count": 4,
   "metadata": {},
   "outputs": [],
   "source": [
    "# fstd = stats.gamma.std(alpha, scale=1/beta, loc = symponset-shift)\n",
    "# fmedian = stats.gamma.median(alpha, scale=1/beta, loc = symponset-shift)\n",
    "# fpfrac = stats.gamma.cdf(symponset, alpha, scale=1/beta, loc = symponset-shift)"
   ]
  },
  {
   "cell_type": "markdown",
   "metadata": {},
   "source": [
    "2 params to set U(a,b) for uniform infectiousness, use the following:\n",
    "\n",
    "1) Proportion of infectiousness pre- and post- symptom onset\n",
    "\n",
    "2) Std of time of infection"
   ]
  },
  {
   "cell_type": "code",
   "execution_count": 5,
   "metadata": {},
   "outputs": [],
   "source": [
    "# a = symponset - fpfrac * fstd * np.sqrt(12) \n",
    "# b = a + fstd * np.sqrt(12) \n",
    "# plt.plot([4.84,4.84],[0,1],':',c=[0.5,0.5,0.5])\n",
    "# plt.plot(t, f, '--', label='Data')\n",
    "# plt.plot([np.min(t),a,a,b,b,np.max(t)],[0,0,1/(b-a),1/(b-a),0,0], label='Uniform approx.')\n",
    "# plt.xlabel('Days since symtpom onset')\n",
    "# plt.ylabel('Infectivity PDF')\n",
    "# plt.xlim((np.min(t),np.max(t)))\n",
    "# plt.ylim((0,0.18))\n",
    "# plt.title('(a)')\n",
    "# plt.legend()\n",
    "# fig = plt.gcf()\n",
    "# fig.set_size_inches(4.2, 3.5)\n",
    "# fig.tight_layout()\n",
    "# fig.savefig('inf_uniform.png', dpi=300)\n",
    "# print(a,b)"
   ]
  },
  {
   "cell_type": "markdown",
   "metadata": {},
   "source": [
    "Use gen time dist"
   ]
  },
  {
   "cell_type": "code",
   "execution_count": 6,
   "metadata": {},
   "outputs": [
    {
     "name": "stdout",
     "output_type": "stream",
     "text": [
      "2.827589044625463 5.613017088140094\n",
      "1.6407138519554287 8.278657050934882\n"
     ]
    },
    {
     "data": {
      "image/png": "[encoded data removed]",
      "text/plain": [
       "<Figure size 302.4x252 with 1 Axes>"
      ]
     },
     "metadata": {
      "needs_background": "light"
     },
     "output_type": "display_data"
    }
   ],
   "source": [
    "imean = 5.0\n",
    "istd = 1.92\n",
    "kguess = (istd/imean)**(-1.086)\n",
    "cguess = imean / sp.special.gamma(1 + 1/kguess)\n",
    "f = stats.weibull_min.pdf(t, kguess, scale=cguess)\n",
    "print(kguess, cguess)\n",
    "fstd = stats.weibull_min.std(kguess, scale=cguess)\n",
    "fmedian = stats.weibull_min.median(kguess, scale=cguess)\n",
    "fpfrac = stats.weibull_min.cdf(symponset, kguess, scale=cguess)\n",
    "a = symponset - fpfrac * fstd * np.sqrt(12) \n",
    "b = a + fstd * np.sqrt(12) \n",
    "plt.plot([4.84,4.84],[0,1],':',c=[0.5,0.5,0.5])\n",
    "plt.plot(t, f, '--', label='Data')\n",
    "plt.plot([np.min(t),a,a,b,b,np.max(t)],[0,0,1/(b-a),1/(b-a),0,0], label='Uniform approx.')\n",
    "plt.xlabel('Days since symtpom onset')\n",
    "plt.ylabel('Infectivity PDF')\n",
    "plt.xlim((np.min(t),np.max(t)))\n",
    "plt.ylim((0,0.25))\n",
    "plt.title('(a)')\n",
    "plt.legend()\n",
    "fig = plt.gcf()\n",
    "fig.set_size_inches(4.2, 3.5)\n",
    "fig.tight_layout()\n",
    "fig.savefig('inf_uniform.png', dpi=300)\n",
    "print(a,b)"
   ]
  },
  {
   "cell_type": "markdown",
   "metadata": {},
   "source": [
    "3 params to set U(a,b) & P for test positivity\n",
    "\n",
    "1) Proportion of positivity before onset\n",
    "\n",
    "2) Area under positivity curve\n",
    "\n",
    "3) Std in time of positive test"
   ]
  },
  {
   "cell_type": "code",
   "execution_count": 6,
   "metadata": {},
   "outputs": [
    {
     "name": "stdout",
     "output_type": "stream",
     "text": [
      "8.565942691549274   0.23428597182282798   9.204703921869559   5.414347201484545 \n",
      "\n"
     ]
    }
   ],
   "source": [
    "df = pd.read_csv('~/Documents/Github/pcr-profile/PCR_curve_summary.csv')\n",
    "x = df['days_since_infection'].to_numpy()\n",
    "\n",
    "P = df['median'].to_numpy()\n",
    "\n",
    "auc = np.trapz(P,x)\n",
    "fpbfrac = np.trapz(P[x<=symponset],x[x<=symponset])/auc\n",
    "mean = np.trapz(P*x,x)/auc\n",
    "std = np.sqrt(np.trapz(P*(x-mean)**2,x)/auc)\n",
    "\n",
    "print(auc,' ',fpbfrac, ' ', mean, ' ', std, '\\n')"
   ]
  },
  {
   "cell_type": "markdown",
   "metadata": {},
   "source": [
    "b - a = np.sqrt(12) * fpbfrac\n",
    "\n",
    "auc / (np.sqrt(12) * fpbfrac) = sens\n",
    "\n",
    "a = symponset - "
   ]
  },
  {
   "cell_type": "markdown",
   "metadata": {},
   "source": [
    "PCR positivity from day of test Wikramaratna 2020"
   ]
  },
  {
   "cell_type": "code",
   "execution_count": 7,
   "metadata": {},
   "outputs": [
    {
     "name": "stdout",
     "output_type": "stream",
     "text": [
      "0.4057677164799731   19.546595512667373   0.447522060318389\n"
     ]
    }
   ],
   "source": [
    "ap = symponset - fpbfrac * std * np.sqrt(12) \n",
    "bp = a + std * np.sqrt(12) \n",
    "sens = auc / (bp - ap)\n",
    "print(ap,' ',bp,' ',sens)"
   ]
  },
  {
   "cell_type": "code",
   "execution_count": 8,
   "metadata": {},
   "outputs": [
    {
     "data": {
      "text/plain": [
       "[<matplotlib.lines.Line2D at 0x7fdff94b9090>]"
      ]
     },
     "execution_count": 8,
     "metadata": {},
     "output_type": "execute_result"
    },
    {
     "data": {
      "image/png": "[encoded data removed]",
      "text/plain": [
       "<Figure size 432x288 with 1 Axes>"
      ]
     },
     "metadata": {
      "needs_background": "light"
     },
     "output_type": "display_data"
    }
   ],
   "source": [
    "x = np.arange(201)/10\n",
    "Ifit = np.zeros(201)\n",
    "Ifit[(x >= a) * (x <= b)] = 1\n",
    "Pfit = np.zeros(201)\n",
    "Pfit[(x >= ap) * (x <= bp)] = sens\n",
    "\n",
    "plt.plot(x,Ifit)\n",
    "plt.plot(x,Pfit)"
   ]
  },
  {
   "cell_type": "markdown",
   "metadata": {},
   "source": [
    "PCR with 80% sensitivity, shift AUC to get uniform curve"
   ]
  },
  {
   "cell_type": "code",
   "execution_count": 68,
   "metadata": {},
   "outputs": [
    {
     "name": "stdout",
     "output_type": "stream",
     "text": [
      "2.38822210748218 6.943822694939673\n"
     ]
    },
    {
     "data": {
      "image/png": "[encoded data removed]",
      "text/plain": [
       "<Figure size 302.4x252 with 1 Axes>"
      ]
     },
     "metadata": {
      "needs_background": "light"
     },
     "output_type": "display_data"
    }
   ],
   "source": [
    "symponset = 4.8\n",
    "infend = 10.4\n",
    "fitted = pd.read_csv('~/Documents/Github/pcr-profile/PCR_curve_summary.csv')\n",
    "psint = np.trapz(fitted['median'][fitted['days_since_infection'] < symponset], \\\n",
    "                 fitted['days_since_infection'][fitted['days_since_infection'] < symponset])\n",
    "asint = np.trapz(fitted['median'][fitted['days_since_infection'] < infend], \\\n",
    "                 fitted['days_since_infection'][fitted['days_since_infection'] < infend])\n",
    "sens = 0.8\n",
    "a = symponset - psint /sens\n",
    "b = symponset + (asint - psint) / sens\n",
    "plt.plot([symponset,symponset],[0,1],':',c=[0.5,0.5,0.5])\n",
    "plt.plot([infend,infend],[0,1],':',c=[0.5,0.5,0.5])\n",
    "plt.plot(fitted['days_since_infection'],fitted['median'],'--',label='Data')\n",
    "plt.plot([0,a,a,b,b,30],[0,0,sens,sens,0,0],label='Uniform approx.')\n",
    "\n",
    "print(a,b-a)\n",
    "plt.xlim((0,30))\n",
    "plt.ylim((0,1))\n",
    "plt.legend()\n",
    "plt.title('(b)')\n",
    "plt.xlabel('Days since infection')\n",
    "plt.ylabel('PCR positive probability')\n",
    "fig = plt.gcf()\n",
    "fig.set_size_inches(4.2, 3.5)\n",
    "fig.tight_layout()\n",
    "fig.savefig('PCR_uniform.png', dpi=300)"
   ]
  },
  {
   "cell_type": "markdown",
   "metadata": {},
   "source": [
    "LFT with 65% sensitivity"
   ]
  },
  {
   "cell_type": "code",
   "execution_count": 69,
   "metadata": {},
   "outputs": [
    {
     "name": "stdout",
     "output_type": "stream",
     "text": [
      "2.7761035939671292 5.111603220429119\n"
     ]
    },
    {
     "data": {
      "image/png": "[encoded data removed]",
      "text/plain": [
       "<Figure size 302.4x252 with 1 Axes>"
      ]
     },
     "metadata": {
      "needs_background": "light"
     },
     "output_type": "display_data"
    }
   ],
   "source": [
    "fitted = pd.read_csv('~/Documents/Github/pcr-profile/LFT_curve_summary.csv')\n",
    "psint = np.trapz(fitted['median'][fitted['days_since_infection'] < symponset], \\\n",
    "                 fitted['days_since_infection'][fitted['days_since_infection'] < symponset])\n",
    "asint = np.trapz(fitted['median'][fitted['days_since_infection'] < infend], \\\n",
    "                 fitted['days_since_infection'][fitted['days_since_infection'] < infend])\n",
    "sens = 0.65\n",
    "a = symponset - psint / sens\n",
    "b = symponset + (asint - psint) / sens\n",
    "plt.plot([symponset,symponset],[0,1],':',c=[0.5,0.5,0.5])\n",
    "plt.plot([infend,infend],[0,1],':',c=[0.5,0.5,0.5])\n",
    "plt.plot(fitted['days_since_infection'],fitted['median'],'--',label='Data')\n",
    "plt.plot([0,a,a,b,b,30],[0,0,sens,sens,0,0],label='Uniform approx.')\n",
    "print(a,b-a)\n",
    "plt.legend()\n",
    "plt.xlim((0,30))\n",
    "plt.ylim((0,1))\n",
    "plt.title('(c)')\n",
    "plt.xlabel('Days since infection')\n",
    "plt.ylabel('LFD positive probability')\n",
    "fig = plt.gcf()\n",
    "fig.set_size_inches(4.2, 3.5)\n",
    "fig.tight_layout()\n",
    "fig.savefig('LFD_uniform.png', dpi=300)"
   ]
  },
  {
   "cell_type": "markdown",
   "metadata": {},
   "source": [
    "PCR with variable sensitivity"
   ]
  },
  {
   "cell_type": "code",
   "execution_count": null,
   "metadata": {},
   "outputs": [],
   "source": [
    "fitted = pd.read_csv('~/Documents/Github/pcr-profile/PCR_curve_summary.csv')\n",
    "psint = np.trapz(fitted['median'][fitted['days_since_infection'] < symponset], \\\n",
    "                 fitted['days_since_infection'][fitted['days_since_infection'] < symponset])\n",
    "asint = np.trapz(fitted['median'][fitted['days_since_infection'] < infend], \\\n",
    "                 fitted['days_since_infection'][fitted['days_since_infection'] < infend])\n",
    "sens = (asint - psint)/(infend - symponset)\n",
    "\n",
    "a = symponset - psint / sens\n",
    "b = symponset + (asint - psint) / sens\n",
    "plt.plot(fitted['days_since_infection'],fitted['median'])\n",
    "plt.plot([0,a,a,b,b,30],[0,0,sens,sens,0,0])\n",
    "plt.plot([symponset,symponset],[0,1],'--',c='k')\n",
    "plt.plot([infend,infend],[0,1],'--',c='k')\n",
    "print(sens,a,b-a)"
   ]
  },
  {
   "cell_type": "markdown",
   "metadata": {},
   "source": [
    "LFT with variable sensitivity"
   ]
  },
  {
   "cell_type": "code",
   "execution_count": 1,
   "metadata": {},
   "outputs": [
    {
     "ename": "NameError",
     "evalue": "name 'pd' is not defined",
     "output_type": "error",
     "traceback": [
      "\u001b[0;31m---------------------------------------------------------------------------\u001b[0m",
      "\u001b[0;31mNameError\u001b[0m                                 Traceback (most recent call last)",
      "\u001b[0;32m<ipython-input-1-8047dad0b249>\u001b[0m in \u001b[0;36m<module>\u001b[0;34m\u001b[0m\n\u001b[0;32m----> 1\u001b[0;31m \u001b[0mfitted\u001b[0m \u001b[0;34m=\u001b[0m \u001b[0mpd\u001b[0m\u001b[0;34m.\u001b[0m\u001b[0mread_csv\u001b[0m\u001b[0;34m(\u001b[0m\u001b[0;34m'~/Documents/Github/pcr-profile/LFT_curve_summary.csv'\u001b[0m\u001b[0;34m)\u001b[0m\u001b[0;34m\u001b[0m\u001b[0;34m\u001b[0m\u001b[0m\n\u001b[0m\u001b[1;32m      2\u001b[0m psint = np.trapz(fitted['median'][fitted['days_since_infection'] < symponset], \\\n\u001b[1;32m      3\u001b[0m                  fitted['days_since_infection'][fitted['days_since_infection'] < symponset])\n\u001b[1;32m      4\u001b[0m asint = np.trapz(fitted['median'][fitted['days_since_infection'] < infend], \\\n\u001b[1;32m      5\u001b[0m                  fitted['days_since_infection'][fitted['days_since_infection'] < infend])\n",
      "\u001b[0;31mNameError\u001b[0m: name 'pd' is not defined"
     ]
    }
   ],
   "source": [
    "fitted = pd.read_csv('~/Documents/Github/pcr-profile/LFT_curve_summary.csv')\n",
    "psint = np.trapz(fitted['median'][fitted['days_since_infection'] < symponset], \\\n",
    "                 fitted['days_since_infection'][fitted['days_since_infection'] < symponset])\n",
    "asint = np.trapz(fitted['median'][fitted['days_since_infection'] < infend], \\\n",
    "                 fitted['days_since_infection'][fitted['days_since_infection'] < infend])\n",
    "sens = (asint - psint)/(infend - symponset)\n",
    "a = symponset - psint / sens\n",
    "b = symponset + (asint - psint) / sens\n",
    "plt.plot(fitted['days_since_infection'],fitted['median'])\n",
    "plt.plot([0,a,a,b,b,30],[0,0,sens,sens,0,0])\n",
    "plt.plot([symponset,symponset],[0,1],'--',c='k')\n",
    "plt.plot([infend,infend],[0,1],'--',c='k')\n",
    "print(a,b-a)"
   ]
  },
  {
   "cell_type": "code",
   "execution_count": null,
   "metadata": {},
   "outputs": [],
   "source": []
  },
  {
   "cell_type": "code",
   "execution_count": null,
   "metadata": {},
   "outputs": [],
   "source": []
  },
  {
   "cell_type": "code",
   "execution_count": 39,
   "metadata": {},
   "outputs": [
    {
     "data": {
      "text/plain": [
       "(0, 0.2)"
      ]
     },
     "execution_count": 39,
     "metadata": {},
     "output_type": "execute_result"
    },
    {
     "data": {
      "image/png": "[encoded data removed]",
      "text/plain": [
       "<Figure size 432x288 with 1 Axes>"
      ]
     },
     "metadata": {
      "needs_background": "light"
     },
     "output_type": "display_data"
    }
   ],
   "source": [
    "V = np.arange(3,12,0.1)\n",
    "beta = 0.38\n",
    "beta2 = 0.16\n",
    "alpha = np.log(0.05)\n",
    "p1 = np.exp(alpha + beta*(V-6))/(1 + np.exp(alpha + beta*(V-6)))\n",
    "p1nh = np.exp(alpha + beta2*(V-6))/(1 + np.exp(alpha + beta2*(V-6)))\n",
    "p2 = 1 - np.exp(-np.exp(alpha)*np.exp(beta*(V-6)))\n",
    "p2nh = 1 - np.exp(-np.exp(alpha)*np.exp(beta2*(V-6)))\n",
    "plt.plot(V,p1nh)\n",
    "plt.plot(V,p2nh)\n",
    "plt.ylim((0,0.2))"
   ]
  },
  {
   "cell_type": "code",
   "execution_count": null,
   "metadata": {},
   "outputs": [],
   "source": [
    "#We could fit (1 - exp(-t*beta*exp(l*(V - V0)))) to the probability\n",
    "#where t = t1 for hh and t2 for non hh"
   ]
  },
  {
   "cell_type": "code",
   "execution_count": null,
   "metadata": {},
   "outputs": [],
   "source": []
  }
 ],
 "metadata": {
  "kernelspec": {
   "display_name": "Python 3",
   "language": "python",
   "name": "python3"
  },
  "language_info": {
   "codemirror_mode": {
    "name": "ipython",
    "version": 3
   },
   "file_extension": ".py",
   "mimetype": "text/x-python",
   "name": "python",
   "nbconvert_exporter": "python",
   "pygments_lexer": "ipython3",
   "version": "3.7.6"
  }
 },
 "nbformat": 4,
 "nbformat_minor": 4
}
