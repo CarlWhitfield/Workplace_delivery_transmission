{
 "cells": [
  {
   "cell_type": "code",
   "execution_count": 7,
   "metadata": {},
   "outputs": [],
   "source": [
    "import numpy as np\n",
    "import matplotlib.pyplot as plt\n",
    "import scipy.stats as stats"
   ]
  },
  {
   "cell_type": "code",
   "execution_count": 5,
   "metadata": {},
   "outputs": [
    {
     "name": "stdout",
     "output_type": "stream",
     "text": [
      "0.5103980634749874   7.030768709917964\n"
     ]
    }
   ],
   "source": [
    "alpha = 97.19\n",
    "beta = 3.718\n",
    "shift = 25.63\n",
    "mean = alpha/beta - shift\n",
    "var = alpha/beta**2\n",
    "print(mean,\" \",var)"
   ]
  },
  {
   "cell_type": "code",
   "execution_count": 11,
   "metadata": {},
   "outputs": [
    {
     "data": {
      "text/plain": [
       "[<matplotlib.lines.Line2D at 0x7fa5b2320890>]"
      ]
     },
     "execution_count": 11,
     "metadata": {},
     "output_type": "execute_result"
    },
    {
     "data": {
      "image/png": "[encoded data removed]",
      "text/plain": [
       "<Figure size 432x288 with 1 Axes>"
      ]
     },
     "metadata": {
      "needs_background": "light"
     },
     "output_type": "display_data"
    }
   ],
   "source": [
    "\n",
    "\n",
    "symponset = 5.2\n",
    "t = np.arange(21)\n",
    "f = stats.gamma.pdf(t + shift - symponset, alpha, scale=1/beta)\\\n",
    "    /(1 - stats.gamma.cdf(0 + shift - symponset, alpha, scale=1/beta))\n",
    "plt.plot(t, f)"
   ]
  },
  {
   "cell_type": "markdown",
   "metadata": {},
   "source": [
    "To turn this into a flat profile, ensure that same % is presymtpomatic"
   ]
  },
  {
   "cell_type": "code",
   "execution_count": 29,
   "metadata": {},
   "outputs": [],
   "source": [
    "fstd = stats.gamma.std(alpha, scale=1/beta, loc = -shift + symponset)\n",
    "fmedian = stats.gamma.median(alpha, scale=1/beta, loc = -shift + symponset)\n",
    "fpfrac = stats.gamma.cdf(symponset, alpha, scale=1/beta, loc = -shift + symponset)"
   ]
  },
  {
   "cell_type": "markdown",
   "metadata": {},
   "source": [
    "a = symponset - fpfrac (b - a)\n",
    "\n",
    "a ( 1 - fpfrac) = symponset - fpfrac b \n",
    "\n",
    "a = (symponset - fpfrac b) / ( 1 - fpfrac) \n",
    "\n",
    "a + b = 2 fmean\n",
    "\n",
    "symponset/( 1 - fpfrac) + [(1 - 2fpfrac) / ( 1 - fpfrac) ] b = 2fmean\n",
    "\n",
    "b = (2 fmean ( 1 - fpfrac) - symponset) / (1 - 2fpfrac)"
   ]
  },
  {
   "cell_type": "code",
   "execution_count": 40,
   "metadata": {},
   "outputs": [
    {
     "name": "stdout",
     "output_type": "stream",
     "text": [
      "2.651559674968294   5.620798997518651 \n",
      "\n",
      "1.69232802846378   9.7284680984862 \n",
      "\n"
     ]
    }
   ],
   "source": [
    "print(fstd,' ',fmedian,'\\n')\n",
    "b = (2 * fmean * (1 - fpfrac) - symponset) / (1 - 2*fpfrac)\n",
    "a = (symponset - fpfrac * b) / (1 - fpfrac) \n",
    "print(a,' ',b,'\\n')"
   ]
  },
  {
   "cell_type": "code",
   "execution_count": 41,
   "metadata": {},
   "outputs": [
    {
     "name": "stdout",
     "output_type": "stream",
     "text": [
      "4.5284680984862\n"
     ]
    }
   ],
   "source": [
    "print(b - symponset)\n"
   ]
  },
  {
   "cell_type": "code",
   "execution_count": null,
   "metadata": {},
   "outputs": [],
   "source": []
  }
 ],
 "metadata": {
  "kernelspec": {
   "display_name": "Python 3",
   "language": "python",
   "name": "python3"
  },
  "language_info": {
   "codemirror_mode": {
    "name": "ipython",
    "version": 3
   },
   "file_extension": ".py",
   "mimetype": "text/x-python",
   "name": "python",
   "nbconvert_exporter": "python",
   "pygments_lexer": "ipython3",
   "version": "3.7.6"
  }
 },
 "nbformat": 4,
 "nbformat_minor": 4
}
