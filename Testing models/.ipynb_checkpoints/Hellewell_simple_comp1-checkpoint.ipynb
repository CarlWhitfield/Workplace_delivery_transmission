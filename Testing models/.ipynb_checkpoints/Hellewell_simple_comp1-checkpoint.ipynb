{
 "cells": [
  {
   "cell_type": "markdown",
   "metadata": {},
   "source": [
    "Reanalyze Helewell data relative to symtpom onset"
   ]
  },
  {
   "cell_type": "code",
   "execution_count": 1,
   "metadata": {},
   "outputs": [],
   "source": [
    "import numpy as np\n",
    "import matplotlib.pyplot as plt\n",
    "import scipy.stats as stats\n",
    "import pandas as pd\n",
    "import datetime as dt\n",
    "import pymc3 as pm"
   ]
  },
  {
   "cell_type": "code",
   "execution_count": 2,
   "metadata": {},
   "outputs": [],
   "source": [
    "sympt = pd.read_csv('~/Documents/Github/pcr-profile/symptom_data.csv')\n",
    "test = pd.read_csv('~/Documents/Github/pcr-profile/test_data.csv')\n",
    "sympt\n",
    "symponset = 4.8"
   ]
  },
  {
   "cell_type": "code",
   "execution_count": 3,
   "metadata": {},
   "outputs": [],
   "source": [
    "ids = np.unique(sympt['num_id'])\n",
    "sympt['day_no'] = np.zeros(len(sympt),dtype=np.int)\n",
    "for i in np.arange(len(sympt)):\n",
    "    dh = dt.datetime.strptime(sympt['date'][i],'%Y-%m-%d')\n",
    "    td = dh - dt.datetime.strptime('2020-01-01','%Y-%m-%d')\n",
    "    sympt.loc[i,'day_no'] = td.days\n",
    "\n",
    "test['day_no'] = np.zeros(len(test),dtype=np.int)\n",
    "for i in np.arange(len(test)):\n",
    "    dh = dt.datetime.strptime(test['date'][i],'%Y-%m-%d')\n",
    "    td = dh - dt.datetime.strptime('2020-01-01','%Y-%m-%d')\n",
    "    test.loc[i,'day_no'] = td.days\n",
    "    \n",
    "first_day = np.min(test['day_no'].to_numpy())"
   ]
  },
  {
   "cell_type": "code",
   "execution_count": 4,
   "metadata": {},
   "outputs": [],
   "source": [
    "symptids = np.array([],dtype=np.int)\n",
    "for i in ids:\n",
    "    if np.any(sympt['symptom'][sympt['num_id'] == i]):\n",
    "        symptids = np.append(symptids,i)\n",
    "\n",
    "sympt_lb = np.zeros(len(symptids),dtype=np.int)\n",
    "sympt_ub = np.zeros(len(symptids),dtype=np.int)\n",
    "test_lb = np.zeros(len(symptids),dtype=np.int)\n",
    "test_ub = np.zeros(len(symptids),dtype=np.int)\n",
    "\n",
    "test_days = np.zeros(len(symptids),dtype=np.object)\n",
    "test_results = np.zeros(len(symptids),dtype=np.object)\n",
    "total_tests = 0\n",
    "for i in symptids:\n",
    "    s = sympt['symptom'][sympt['num_id'] == i].to_numpy()\n",
    "    d = sympt['day_no'][sympt['num_id'] == i].to_numpy()\n",
    "    n = np.arange(len(s))\n",
    "    nh = n[s][0]\n",
    "    sympt_lb[i-1] = d[nh-1]\n",
    "    sympt_ub[i-1] = d[nh]\n",
    "    \n",
    "    dtest = test['day_no'][test['num_id'] == i].to_numpy()\n",
    "    t = test['pcr_result'][test['num_id'] == i].to_numpy()\n",
    "    n = np.arange(len(t))\n",
    "    if np.any(t > 0):\n",
    "        nh = n[t][0]\n",
    "        test_lb[i-1] = dtest[nh-1]\n",
    "        test_ub[i-1] = dtest[nh]\n",
    "    else:\n",
    "        test_lb[i-1] = sympt_lb[i-1]\n",
    "        test_ub[i-1] = sympt_ub[i-1]\n",
    "    \n",
    "    #could put extra tests in at start day\n",
    "    #test_days[i-1] = np.append(np.array([first_day-1]),dtest)\n",
    "    #test_results[i-1] = np.append(np.array([False]),t)\n",
    "    \n",
    "    test_days[i-1] = dtest\n",
    "    test_results[i-1] = t\n",
    "    \n",
    "    total_tests += len(test_days[i-1])\n"
   ]
  },
  {
   "cell_type": "markdown",
   "metadata": {},
   "source": [
    "All symptomatic\n",
    "\n",
    "For each individual, define test times\n",
    "\n"
   ]
  },
  {
   "cell_type": "code",
   "execution_count": 5,
   "metadata": {},
   "outputs": [],
   "source": [
    "X = np.zeros(total_tests)\n",
    "Y = np.zeros(total_tests,dtype=np.bool)\n",
    "Z = np.zeros(total_tests)\n",
    "jcount = 0\n",
    "for i in np.arange(len(symptids)):\n",
    "    X[jcount:(jcount + len(test_days[i]))] = test_days[i]\n",
    "    Y[jcount:(jcount + len(test_days[i]))] = test_results[i]\n",
    "    Z[jcount:(jcount + len(test_days[i]))] = 0.5 * (sympt_lb[i] + sympt_ub[i])\n",
    "    jcount += len(test_days[i])\n"
   ]
  },
  {
   "cell_type": "code",
   "execution_count": 12,
   "metadata": {},
   "outputs": [
    {
     "name": "stderr",
     "output_type": "stream",
     "text": [
      "Auto-assigning NUTS sampler...\n",
      "Initializing NUTS using adapt_diag...\n",
      "Multiprocess sampling (4 chains in 4 jobs)\n",
      "NUTS: [beta3, beta2, beta1, C, sonset26, sonset25, sonset24, sonset23, sonset22, sonset21, sonset20, sonset19, sonset18, sonset17, sonset16, sonset15, sonset14, sonset13, sonset12, sonset11, sonset10, sonset9, sonset8, sonset7, sonset6, sonset5, sonset4, sonset3, sonset2, sonset1, sonset0]\n",
      "Sampling 4 chains, 0 divergences: 100%|██████████| 44000/44000 [04:48<00:00, 152.43draws/s]\n"
     ]
    }
   ],
   "source": [
    "import theano\n",
    "import theano.tensor as tt\n",
    "\n",
    "test_model = pm.Model()\n",
    "Nsamples = 1000\n",
    "with test_model:    \n",
    "    stimes = tt.zeros(len(symptids))\n",
    "    for i in np.arange(len(symptids)):\n",
    "        stimes = tt.set_subtensor(stimes[i],\\\n",
    "                        pm.Uniform('sonset%d'%i, lower=sympt_lb[i], upper=sympt_ub[i]))\n",
    "\n",
    "    # Priors for unknown model parameters\n",
    "    C = pm.Normal('C', mu = 0, sigma = 3.0)\n",
    "    beta1 = pm.Normal('beta1', mu = 0, sigma = 1.0)\n",
    "    beta2 = pm.Normal('beta2', mu = 0, sigma = 1.0) \n",
    "    beta3 = pm.Normal('beta3', mu = 0, sigma = 1.0)\n",
    "    \n",
    "    s = tt.zeros(total_tests)\n",
    "    jcount = 0\n",
    "    for i in np.arange(len(symptids)):\n",
    "        if len(test_days[i]) > 0:\n",
    "            s = tt.set_subtensor(s[jcount:(jcount + len(test_days[i]))], stimes[i])            \n",
    "        jcount += len(test_days[i])\n",
    "                      \n",
    "    rate = pm.math.switch(X - s - C > 0, beta2, beta3)\n",
    "    \n",
    "    muh = 1 / (1 + pm.math.exp(beta1 + rate * (X - s - C)))\n",
    "    Y_obs = pm.Bernoulli(\"Y_obs\", p = muh, observed=Y)\n",
    "    \n",
    "    param_samples = pm.sample(Nsamples, init='adapt_diag', tune=10000)"
   ]
  },
  {
   "cell_type": "code",
   "execution_count": 13,
   "metadata": {},
   "outputs": [
    {
     "data": {
      "text/plain": [
       "(0, 1)"
      ]
     },
     "execution_count": 13,
     "metadata": {},
     "output_type": "execute_result"
    },
    {
     "data": {
      "image/png": "[encoded data removed]",
      "text/plain": [
       "<Figure size 432x288 with 1 Axes>"
      ]
     },
     "metadata": {
      "needs_background": "light"
     },
     "output_type": "display_data"
    }
   ],
   "source": [
    "ndrange = np.arange(-10,20,0.1)\n",
    "traces = np.zeros((len(ndrange), Nsamples))\n",
    "for i in np.arange(Nsamples):\n",
    "    Xh = ndrange - param_samples['C'][i]\n",
    "    traces[:,i] =  1 / (1 + np.exp(param_samples['beta1'][i] + param_samples['beta2'][i] * Xh * (Xh>0) + \\\n",
    "                                   param_samples['beta3'][i] * Xh * (Xh<0)))\n",
    "    \n",
    "plt.plot(ndrange, np.median(traces,1),c='k')\n",
    "plt.plot(ndrange, np.quantile(traces,0.975,1),c='r')\n",
    "plt.plot(ndrange, np.quantile(traces,0.025,1),c='r')\n",
    "plt.plot([0,0],[0,1],'--',c=[0.5,0.5,0.5])\n",
    "plt.xlabel('Days from symptom onset')\n",
    "plt.ylabel('PCR positive probability')\n",
    "plt.ylim(0,1)"
   ]
  },
  {
   "cell_type": "code",
   "execution_count": 14,
   "metadata": {},
   "outputs": [
    {
     "data": {
      "text/plain": [
       "(array([  8.,   3.,   0.,   8.,  15.,  21.,  16.,  22.,  43.,  56.,  60.,\n",
       "        121., 160., 253., 335., 517., 709., 813., 664., 176.]),\n",
       " array([-2.16609422e+00, -2.05783761e+00, -1.94958100e+00, -1.84132439e+00,\n",
       "        -1.73306778e+00, -1.62481117e+00, -1.51655456e+00, -1.40829795e+00,\n",
       "        -1.30004134e+00, -1.19178473e+00, -1.08352812e+00, -9.75271511e-01,\n",
       "        -8.67014901e-01, -7.58758292e-01, -6.50501682e-01, -5.42245072e-01,\n",
       "        -4.33988462e-01, -3.25731852e-01, -2.17475242e-01, -1.09218632e-01,\n",
       "        -9.62021967e-04]),\n",
       " <a list of 20 Patch objects>)"
      ]
     },
     "execution_count": 14,
     "metadata": {},
     "output_type": "execute_result"
    },
    {
     "data": {
      "image/png": "[encoded data removed]",
      "text/plain": [
       "<Figure size 432x288 with 1 Axes>"
      ]
     },
     "metadata": {
      "needs_background": "light"
     },
     "output_type": "display_data"
    }
   ],
   "source": [
    "plt.hist(param_samples['C'],bins=20)\n",
    "plt.hist(param_samples['beta1'],bins=20)\n",
    "plt.hist(param_samples['beta2'],bins=20)\n",
    "plt.hist(param_samples['beta3'],bins=20)"
   ]
  },
  {
   "cell_type": "code",
   "execution_count": 15,
   "metadata": {},
   "outputs": [],
   "source": [
    "y = np.median(traces,1)\n",
    "meanpos = np.trapz(y,ndrange)\n",
    "psfrac = np.trapz(y[ndrange < 0],ndrange[ndrange < 0])/meanpos\n",
    "meanposday = np.trapz(y*ndrange,ndrange) / meanpos\n",
    "varposday = np.trapz(y*(ndrange - meanposday)**2,ndrange) / meanpos"
   ]
  },
  {
   "cell_type": "code",
   "execution_count": 16,
   "metadata": {},
   "outputs": [
    {
     "name": "stdout",
     "output_type": "stream",
     "text": [
      "0.4530492522702575\n"
     ]
    }
   ],
   "source": [
    "print(psfrac)"
   ]
  },
  {
   "cell_type": "code",
   "execution_count": 21,
   "metadata": {},
   "outputs": [],
   "source": [
    "import seaborn as sns\n",
    "\n",
    "ids = np.zeros(Nsamples*len(symptids),dtype=np.int)\n",
    "sotime = np.zeros(Nsamples*len(symptids))\n",
    "for n in np.arange(Nsamples):\n",
    "    for j in np.arange(len(symptids)):\n",
    "        ids[n*len(symptids) + j] = symptids[j]\n",
    "        sotime[n*len(symptids) + j] = param_samples['sonset%d'%j][n]\n",
    "        \n",
    "dicth = {'ids':ids, 'sotime':sotime}\n",
    "df = pd.DataFrame(dicth)"
   ]
  },
  {
   "cell_type": "code",
   "execution_count": 22,
   "metadata": {},
   "outputs": [
    {
     "data": {
      "text/plain": [
       "<matplotlib.collections.PathCollection at 0x7f82d1f1d210>"
      ]
     },
     "execution_count": 22,
     "metadata": {},
     "output_type": "execute_result"
    },
    {
     "data": {
      "image/png": "[encoded data removed]",
      "text/plain": [
       "<Figure size 432x288 with 1 Axes>"
      ]
     },
     "metadata": {
      "needs_background": "light"
     },
     "output_type": "display_data"
    }
   ],
   "source": [
    "sns.violinplot(x='ids',y='sotime',data=df)\n",
    "plt.scatter(symptids-1, sympt_lb, c='r')\n",
    "plt.scatter(symptids-1, sympt_ub, c='r')"
   ]
  },
  {
   "cell_type": "code",
   "execution_count": null,
   "metadata": {},
   "outputs": [],
   "source": []
  },
  {
   "cell_type": "code",
   "execution_count": null,
   "metadata": {},
   "outputs": [],
   "source": []
  }
 ],
 "metadata": {
  "kernelspec": {
   "display_name": "Python 3",
   "language": "python",
   "name": "python3"
  },
  "language_info": {
   "codemirror_mode": {
    "name": "ipython",
    "version": 3
   },
   "file_extension": ".py",
   "mimetype": "text/x-python",
   "name": "python",
   "nbconvert_exporter": "python",
   "pygments_lexer": "ipython3",
   "version": "3.7.6"
  }
 },
 "nbformat": 4,
 "nbformat_minor": 4
}
