{
 "cells": [
  {
   "cell_type": "code",
   "execution_count": 1,
   "metadata": {},
   "outputs": [],
   "source": [
    "import numpy as np\n",
    "import matplotlib.pyplot as plt\n",
    "import scipy.stats as stats\n",
    "import pandas as pd\n",
    "\n",
    "fittedPCR = pd.read_csv('~/Documents/Github/pcr-profile/PCR_curve_summary.csv')\n",
    "fittedLFD = pd.read_csv('~/Documents/Github/pcr-profile/LFT_curve_summary.csv')\n",
    "t = fittedPCR['days_since_infection'].to_numpy()\n",
    "PCRpos = fittedPCR['median'].to_numpy()\n",
    "LFDpos = fittedLFD['median'].to_numpy()\n",
    "\n",
    "symponset = 4.84\n",
    "def infectivity_profile():\n",
    "    alpha = 97.19\n",
    "    beta = 3.718\n",
    "    shift = 25.63\n",
    "    f = stats.gamma.pdf(t + shift - symponset, alpha, scale=1/beta)\\\n",
    "        /(1-stats.gamma.cdf(shift- symponset, alpha, scale=1/beta))\n",
    "    return f\n",
    "\n",
    "def symp_profile():\n",
    "    alpha = 4.84**2/2.8**2\n",
    "    beta = 4.84/2.8**2\n",
    "    g = stats.gamma.pdf(t, alpha, scale=1/beta)\n",
    "    return g\n",
    "\n",
    "def infectivity_scale(ts, tt, td, tpos, Psisol, tisol):\n",
    "    t_result = tt + td\n",
    "    t_result = np.append(t_result, ts)\n",
    "    t_order = np.argsort(t_result)\n",
    "    t_prob = np.append(tpos, Psisol)\n",
    "    t_result = t_result[t_order]\n",
    "    t_prob = t_prob[t_order]\n",
    "    f_scale = np.ones(len(t))\n",
    "    Pmissed = 1\n",
    "    for k in np.arange(len(t_result)):\n",
    "        Ph = t_prob[k]*Pmissed\n",
    "        trange = ((t >= t_result[k]) & (t < t_result[k] + tisol))\n",
    "        f_scale[trange] -= Ph\n",
    "        Pmissed *= (1 - t_prob[k])\n",
    "    return f_scale\n",
    "\n",
    "def infectivity_scale_no_test(ts, Psisol, tisol):\n",
    "    f_scale = np.ones(len(t))\n",
    "    trange = (t >= ts)\n",
    "    f_scale[trange] -= Psisol\n",
    "\n",
    "    return f_scale\n",
    "    \n",
    "def integrate_f(tauf, td, Psisol, tisol, ttype = 'PCR'):\n",
    "    dt = t[1]-t[0]\n",
    "    idt = 1/dt\n",
    "    t0 = np.arange(0,tauf,dt)\n",
    "    ggen = symp_profile()\n",
    "    gint = np.zeros(len(t))\n",
    "    for i in np.arange(len(t)):\n",
    "        tsh = t[i]\n",
    "        iprof = infectivity_profile()\n",
    "        if tauf > 0:\n",
    "            fint = np.zeros(len(t0))\n",
    "            for j in np.arange(len(t0)):\n",
    "                t0h = t0[j]\n",
    "                tt = np.arange(t0h, np.max(t)-td, tauf)\n",
    "                itt = np.array(np.round(tt*idt),dtype=np.int)\n",
    "                if ttype == 'PCR':\n",
    "                    tpos = PCRpos[itt]\n",
    "                else:\n",
    "                    tpos = LFDpos[itt]\n",
    "                fscale = infectivity_scale(tsh, tt, td, tpos, Psisol, tisol)\n",
    "                fh = iprof*fscale\n",
    "                fint[j] = np.trapz(fh,t)\n",
    "                \n",
    "            gint[i] = np.trapz(fint,t0)/tauf\n",
    "        else:\n",
    "            fscale = infectivity_scale_no_test(tsh, Psisol, tisol)\n",
    "            fh = iprof*fscale\n",
    "            gint[i] = np.trapz(fh,t)\n",
    "    F = np.trapz(ggen*gint,t)\n",
    "    \n",
    "    return F"
   ]
  },
  {
   "cell_type": "code",
   "execution_count": null,
   "metadata": {},
   "outputs": [
    {
     "name": "stdout",
     "output_type": "stream",
     "text": [
      "0 0 0.15256953176799531\n",
      "0 1 0.2353982771005935\n",
      "0 2 0.3078723237498555\n",
      "0 3 0.3660903946032894\n",
      "0 4 0.4131000042571191\n",
      "0 5 0.45159975488385434\n",
      "0 6 0.48310241550102284\n",
      "0 7 0.5087931440685012\n"
     ]
    }
   ],
   "source": [
    "Ttype = ['PCR','PCR','PCR','LFD']\n",
    "taud = [0,1,2,0]\n",
    "tauisol = 10.0\n",
    "Psisol = 0.5\n",
    "tauf = np.arange(1,15)\n",
    "Ftest_isol = np.zeros((len(Ttype),len(tauf)))\n",
    "for i in np.arange(len(Ttype)):\n",
    "    for j in np.arange(len(tauf)):\n",
    "        Ftest_isol[i,j] = integrate_f(tauf[j], taud[i], Psisol, tauisol, Ttype[i])\n",
    "        print(i,j,Ftest_isol[i,j])"
   ]
  },
  {
   "cell_type": "code",
   "execution_count": null,
   "metadata": {},
   "outputs": [],
   "source": [
    "Fbaseline = integrate_f(0, 0, Psisol, tauisol)\n",
    "Colors = [[0,0,1,0.4],[0,0,1,1],[0,0,1,0.4],[1,0,0,1]]\n",
    "Style = ['-+','-o','-x','-s']\n",
    "for i in np.arange(len(Ttype)):\n",
    "    plt.plot(tauf, 1-(Ftest_isol[i,:]/Fbaseline), Style[i], c=Colors[i], label='%s -- %d day delay'%(Ttype[i],taud[i]))\n",
    "plt.legend()\n",
    "plt.xlim(1,14)\n",
    "plt.ylim(0,1.0)\n",
    "plt.xlabel('Days between test')\n",
    "plt.ylabel('Reduction in infectious potential')\n",
    "plt.title('(a) With symptomatic isolation in 50% of pop.')\n",
    "plt.savefig('RPI_mean.png')"
   ]
  },
  {
   "cell_type": "code",
   "execution_count": null,
   "metadata": {},
   "outputs": [],
   "source": [
    "Ttype = ['PCR','PCR','PCR','LFD']\n",
    "taud = [0,1,2,0]\n",
    "tauisol = 10.0\n",
    "Psisol = 0.0\n",
    "tauf = np.arange(1,15)\n",
    "Ftest = np.zeros((len(Ttype),len(tauf)))\n",
    "for i in np.arange(len(Ttype)):\n",
    "    for j in np.arange(len(tauf)):\n",
    "        print(i,j)\n",
    "        Ftest[i,j] = integrate_f(tauf[j], taud[i], Psisol, tauisol, Ttype[i])"
   ]
  },
  {
   "cell_type": "code",
   "execution_count": null,
   "metadata": {},
   "outputs": [],
   "source": [
    "print(Ftest)\n",
    "Fbaseline = integrate_f(0, 0, Psisol, tauisol)\n",
    "Colors = [[0,0,1,0.4],[0,0,1,1],[0,0,1,0.4],[1,0,0,1]]\n",
    "Style = ['-+','-o','-x','-s']\n",
    "for i in np.arange(len(Ttype)):\n",
    "    plt.plot(tauf, 1-(Ftest[i,:]/Fbaseline), Style[i], c=Colors[i], label='%s -- %d day delay'%(Ttype[i],taud[i]))\n",
    "plt.legend()\n",
    "plt.xlim(1,14)\n",
    "plt.ylim(0,1.0)\n",
    "plt.xlabel('Days between test')\n",
    "plt.ylabel('Reduction in infectious potential')\n",
    "plt.title('(b) With no symptomatic isolation')\n",
    "plt.savefig('RPI_mean_nosymp.png')"
   ]
  },
  {
   "cell_type": "code",
   "execution_count": null,
   "metadata": {},
   "outputs": [],
   "source": []
  },
  {
   "cell_type": "code",
   "execution_count": null,
   "metadata": {},
   "outputs": [],
   "source": []
  },
  {
   "cell_type": "code",
   "execution_count": null,
   "metadata": {},
   "outputs": [],
   "source": []
  }
 ],
 "metadata": {
  "kernelspec": {
   "display_name": "Python 3",
   "language": "python",
   "name": "python3"
  },
  "language_info": {
   "codemirror_mode": {
    "name": "ipython",
    "version": 3
   },
   "file_extension": ".py",
   "mimetype": "text/x-python",
   "name": "python",
   "nbconvert_exporter": "python",
   "pygments_lexer": "ipython3",
   "version": "3.7.6"
  }
 },
 "nbformat": 4,
 "nbformat_minor": 4
}
