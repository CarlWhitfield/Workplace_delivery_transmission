{
 "cells": [
  {
   "cell_type": "code",
   "execution_count": 1,
   "metadata": {},
   "outputs": [],
   "source": [
    "import pandas as pd\n",
    "import numpy as np\n",
    "import seaborn as sns\n",
    "import matplotlib.pyplot as plt\n",
    "import scipy.stats as stats\n",
    "sns.set(font_scale=1.5)"
   ]
  },
  {
   "cell_type": "markdown",
   "metadata": {},
   "source": [
    "**************************************************\n",
    "\n",
    "Testing param sweep -- parcel wp\n",
    "\n",
    "**************************************************"
   ]
  },
  {
   "cell_type": "code",
   "execution_count": 2,
   "metadata": {},
   "outputs": [
    {
     "data": {
      "text/plain": [
       "Index(['Group', 'NStaff', 'Iteration', 'FracRecovered', 'FomiteInfectionFrac',\n",
       "       'CohortInfectionFrac', 'RandContactInfectionFrac', 'PairInfectionFrac',\n",
       "       'RoomInfectionFrac', 'ExtIntroFrac', 'CustIntroFrac', 'CarShareInfFrac',\n",
       "       'HouseShareInfFrac', 'CustomersInfected', 'IsolatorsFrac',\n",
       "       'SympIsolatorsFrac', 'FPIsolatorsFrac', 'TPSympIsolatorsFrac',\n",
       "       'TPAsympIsolatorsFrac', 'IndexCaseInfections', 'IndexCaseViralLoad',\n",
       "       'IndexCaseInfectivity', 'OverallOutbreakLength', 'is_testing',\n",
       "       'protocol', 'tperiod', 'specificity', 'new_comply_prob', 'tD',\n",
       "       'SimType', 'TeamTimes', 'phi', 'TeamDistances', 'InfInit',\n",
       "       'HouseShareFactor', 'CarShareFactor', 'Psusc', 'delay', 'Pisol',\n",
       "       'NDteams', 'is_cohorts', 'p_contact', 'test_pause', 'NOteams',\n",
       "       'TeamsOutside', 'NLteams', 'NRecovered', 'NInfected', 'outbreak'],\n",
       "      dtype='object')"
      ]
     },
     "execution_count": 2,
     "metadata": {},
     "output_type": "execute_result"
    }
   ],
   "source": [
    "df = pd.read_pickle(\"testing_sweep.pkl\",compression='bz2')\n",
    "df['NRecovered'] = df['FracRecovered']*df['NStaff']\n",
    "df['NInfected'] = df['NRecovered']-1\n",
    "df['outbreak'] = (df['NRecovered'] > 4)\n",
    "df.columns"
   ]
  },
  {
   "cell_type": "code",
   "execution_count": 3,
   "metadata": {},
   "outputs": [],
   "source": [
    "dfbaseline = df.loc[lambda DF: (DF['protocol'] == 'No testing')]\n",
    "dfball = dfbaseline.loc[lambda DF: (DF['Group'] == 'All')]"
   ]
  },
  {
   "cell_type": "code",
   "execution_count": 4,
   "metadata": {},
   "outputs": [
    {
     "ename": "TypeError",
     "evalue": "'<' not supported between instances of 'str' and 'int'",
     "output_type": "error",
     "traceback": [
      "\u001b[0;31m---------------------------------------------------------------------------\u001b[0m",
      "\u001b[0;31mTypeError\u001b[0m                                 Traceback (most recent call last)",
      "\u001b[0;32m<ipython-input-4-ee898db43f67>\u001b[0m in \u001b[0;36m<module>\u001b[0;34m\u001b[0m\n\u001b[1;32m      1\u001b[0m \u001b[0mdftest\u001b[0m \u001b[0;34m=\u001b[0m \u001b[0mdf\u001b[0m\u001b[0;34m.\u001b[0m\u001b[0mloc\u001b[0m\u001b[0;34m[\u001b[0m\u001b[0;32mlambda\u001b[0m \u001b[0mDF\u001b[0m\u001b[0;34m:\u001b[0m \u001b[0;34m(\u001b[0m\u001b[0mDF\u001b[0m\u001b[0;34m[\u001b[0m\u001b[0;34m'protocol'\u001b[0m\u001b[0;34m]\u001b[0m \u001b[0;34m!=\u001b[0m \u001b[0;34m'No testing'\u001b[0m\u001b[0;34m)\u001b[0m\u001b[0;34m]\u001b[0m\u001b[0;34m\u001b[0m\u001b[0;34m\u001b[0m\u001b[0m\n\u001b[0;32m----> 2\u001b[0;31m \u001b[0mTProtos\u001b[0m \u001b[0;34m=\u001b[0m \u001b[0mnp\u001b[0m\u001b[0;34m.\u001b[0m\u001b[0munique\u001b[0m\u001b[0;34m(\u001b[0m\u001b[0mdftest\u001b[0m\u001b[0;34m[\u001b[0m\u001b[0;34m\"protocol\"\u001b[0m\u001b[0;34m]\u001b[0m\u001b[0;34m)\u001b[0m\u001b[0;34m\u001b[0m\u001b[0;34m\u001b[0m\u001b[0m\n\u001b[0m\u001b[1;32m      3\u001b[0m \u001b[0mDelays\u001b[0m \u001b[0;34m=\u001b[0m \u001b[0mnp\u001b[0m\u001b[0;34m.\u001b[0m\u001b[0munique\u001b[0m\u001b[0;34m(\u001b[0m\u001b[0mdftest\u001b[0m\u001b[0;34m[\u001b[0m\u001b[0;34m\"delay\"\u001b[0m\u001b[0;34m]\u001b[0m\u001b[0;34m)\u001b[0m\u001b[0;34m\u001b[0m\u001b[0;34m\u001b[0m\u001b[0m\n\u001b[1;32m      4\u001b[0m \u001b[0mNCP\u001b[0m \u001b[0;34m=\u001b[0m \u001b[0mnp\u001b[0m\u001b[0;34m.\u001b[0m\u001b[0munique\u001b[0m\u001b[0;34m(\u001b[0m\u001b[0mdftest\u001b[0m\u001b[0;34m[\u001b[0m\u001b[0;34m\"new_comply_prob\"\u001b[0m\u001b[0;34m]\u001b[0m\u001b[0;34m)\u001b[0m\u001b[0;34m\u001b[0m\u001b[0;34m\u001b[0m\u001b[0m\n\u001b[1;32m      5\u001b[0m \u001b[0mTperiod\u001b[0m \u001b[0;34m=\u001b[0m \u001b[0mnp\u001b[0m\u001b[0;34m.\u001b[0m\u001b[0munique\u001b[0m\u001b[0;34m(\u001b[0m\u001b[0mdftest\u001b[0m\u001b[0;34m[\u001b[0m\u001b[0;34m\"tperiod\"\u001b[0m\u001b[0;34m]\u001b[0m\u001b[0;34m)\u001b[0m\u001b[0;34m\u001b[0m\u001b[0;34m\u001b[0m\u001b[0m\n",
      "\u001b[0;32m<__array_function__ internals>\u001b[0m in \u001b[0;36munique\u001b[0;34m(*args, **kwargs)\u001b[0m\n",
      "\u001b[0;32m~/opt/anaconda3/lib/python3.7/site-packages/numpy/lib/arraysetops.py\u001b[0m in \u001b[0;36munique\u001b[0;34m(ar, return_index, return_inverse, return_counts, axis)\u001b[0m\n\u001b[1;32m    261\u001b[0m     \u001b[0mar\u001b[0m \u001b[0;34m=\u001b[0m \u001b[0mnp\u001b[0m\u001b[0;34m.\u001b[0m\u001b[0masanyarray\u001b[0m\u001b[0;34m(\u001b[0m\u001b[0mar\u001b[0m\u001b[0;34m)\u001b[0m\u001b[0;34m\u001b[0m\u001b[0;34m\u001b[0m\u001b[0m\n\u001b[1;32m    262\u001b[0m     \u001b[0;32mif\u001b[0m \u001b[0maxis\u001b[0m \u001b[0;32mis\u001b[0m \u001b[0;32mNone\u001b[0m\u001b[0;34m:\u001b[0m\u001b[0;34m\u001b[0m\u001b[0;34m\u001b[0m\u001b[0m\n\u001b[0;32m--> 263\u001b[0;31m         \u001b[0mret\u001b[0m \u001b[0;34m=\u001b[0m \u001b[0m_unique1d\u001b[0m\u001b[0;34m(\u001b[0m\u001b[0mar\u001b[0m\u001b[0;34m,\u001b[0m \u001b[0mreturn_index\u001b[0m\u001b[0;34m,\u001b[0m \u001b[0mreturn_inverse\u001b[0m\u001b[0;34m,\u001b[0m \u001b[0mreturn_counts\u001b[0m\u001b[0;34m)\u001b[0m\u001b[0;34m\u001b[0m\u001b[0;34m\u001b[0m\u001b[0m\n\u001b[0m\u001b[1;32m    264\u001b[0m         \u001b[0;32mreturn\u001b[0m \u001b[0m_unpack_tuple\u001b[0m\u001b[0;34m(\u001b[0m\u001b[0mret\u001b[0m\u001b[0;34m)\u001b[0m\u001b[0;34m\u001b[0m\u001b[0;34m\u001b[0m\u001b[0m\n\u001b[1;32m    265\u001b[0m \u001b[0;34m\u001b[0m\u001b[0m\n",
      "\u001b[0;32m~/opt/anaconda3/lib/python3.7/site-packages/numpy/lib/arraysetops.py\u001b[0m in \u001b[0;36m_unique1d\u001b[0;34m(ar, return_index, return_inverse, return_counts)\u001b[0m\n\u001b[1;32m    309\u001b[0m         \u001b[0maux\u001b[0m \u001b[0;34m=\u001b[0m \u001b[0mar\u001b[0m\u001b[0;34m[\u001b[0m\u001b[0mperm\u001b[0m\u001b[0;34m]\u001b[0m\u001b[0;34m\u001b[0m\u001b[0;34m\u001b[0m\u001b[0m\n\u001b[1;32m    310\u001b[0m     \u001b[0;32melse\u001b[0m\u001b[0;34m:\u001b[0m\u001b[0;34m\u001b[0m\u001b[0;34m\u001b[0m\u001b[0m\n\u001b[0;32m--> 311\u001b[0;31m         \u001b[0mar\u001b[0m\u001b[0;34m.\u001b[0m\u001b[0msort\u001b[0m\u001b[0;34m(\u001b[0m\u001b[0;34m)\u001b[0m\u001b[0;34m\u001b[0m\u001b[0;34m\u001b[0m\u001b[0m\n\u001b[0m\u001b[1;32m    312\u001b[0m         \u001b[0maux\u001b[0m \u001b[0;34m=\u001b[0m \u001b[0mar\u001b[0m\u001b[0;34m\u001b[0m\u001b[0;34m\u001b[0m\u001b[0m\n\u001b[1;32m    313\u001b[0m     \u001b[0mmask\u001b[0m \u001b[0;34m=\u001b[0m \u001b[0mnp\u001b[0m\u001b[0;34m.\u001b[0m\u001b[0mempty\u001b[0m\u001b[0;34m(\u001b[0m\u001b[0maux\u001b[0m\u001b[0;34m.\u001b[0m\u001b[0mshape\u001b[0m\u001b[0;34m,\u001b[0m \u001b[0mdtype\u001b[0m\u001b[0;34m=\u001b[0m\u001b[0mnp\u001b[0m\u001b[0;34m.\u001b[0m\u001b[0mbool_\u001b[0m\u001b[0;34m)\u001b[0m\u001b[0;34m\u001b[0m\u001b[0;34m\u001b[0m\u001b[0m\n",
      "\u001b[0;31mTypeError\u001b[0m: '<' not supported between instances of 'str' and 'int'"
     ]
    }
   ],
   "source": [
    "dftest = df.loc[lambda DF: (DF['protocol'] != 'No testing')]\n",
    "TProtos = np.unique(dftest[\"protocol\"])\n",
    "Delays = np.unique(dftest[\"delay\"])\n",
    "NCP = np.unique(dftest[\"new_comply_prob\"])\n",
    "Tperiod = np.unique(dftest[\"tperiod\"])\n",
    "\n",
    "print('II = ', np.unique(dftest[\"InfInit\"]))\n",
    "print('TD = ', np.unique(dftest[\"tD\"]))\n",
    "print('Phi = ', np.unique(dftest['phi']))\n",
    "print('Pisol = ', np.unique(dftest['Pisol']))\n",
    "print('Specificity = ', np.unique(dftest['specificity']))\n",
    "print('Random contact rate = ', np.unique(dftest['p_contact']))\n",
    "print('Friend contact prob = ', np.unique(dftest['p_friend_contact']))\n",
    "print('Staff totals = ', np.unique(dftest['NStaff']))"
   ]
  },
  {
   "cell_type": "markdown",
   "metadata": {},
   "source": [
    "need likewise no testing case"
   ]
  },
  {
   "cell_type": "code",
   "execution_count": null,
   "metadata": {},
   "outputs": [],
   "source": [
    "dfall = dftest.loc[dftest['Group']=='All',:]\n",
    "dfall['scenario'] = np.zeros(len(dfall),dtype=np.object)\n",
    "dfall.loc[lambda df: (df[\"protocol\"]=='LFD_mass_testing'),'scenario'] = \"LFD\"\n",
    "dfall.loc[lambda df: (df[\"protocol\"]=='PCR_mass_testing') &\\\n",
    "                     (df[\"delay\"]==0),'scenario'] = \"PCR - 0 delay\"\n",
    "dfall.loc[lambda df: (df[\"protocol\"]=='PCR_mass_testing') &\\\n",
    "                     (df[\"delay\"]==1),'scenario'] = \"PCR - 1 day delay\"\n",
    "dfall.loc[lambda df: (df[\"protocol\"]=='PCR_mass_testing') &\\\n",
    "                     (df[\"delay\"]==2),'scenario'] = \"PCR - 2 day delay\"\n",
    "\n",
    "print(sum(dfall['scenario'] == \"LFD\"))\n",
    "print(sum(dfall['scenario'] == \"PCR - 0 delay\"))\n",
    "print(sum(dfall['scenario'] == \"PCR - 1 day delay\"))\n",
    "print(sum(dfall['scenario'] == \"PCR - 2 day delay\"))\n"
   ]
  },
  {
   "cell_type": "code",
   "execution_count": null,
   "metadata": {},
   "outputs": [],
   "source": [
    "sns.set_color_codes()\n",
    "\n",
    "CL = 'C0'\n",
    "CP0 = \"C1\"\n",
    "CP1 = \"C1\"\n",
    "CP2 = \"C1\"\n",
    "\n",
    "paltest={'LFD':CL, 'PCR - 0 delay':CP0, 'PCR - 1 day delay':CP1, 'PCR - 2 day delay':CP2}\n",
    "\n",
    "sp = sns.catplot(x=\"tperiod\", y=\"outbreak\",hue='scenario',col='new_comply_prob',\\\n",
    "                 data=dfall,kind='point',palette=paltest, legend=False, \\\n",
    "                 hue_order=['PCR - 0 delay', 'PCR - 1 day delay', 'PCR - 2 day delay','LFD'],\\\n",
    "                 markers=[\"x\", \"o\",\"+\",\"s\"], linestyles=[\"--\", \"-\",\":\",\"-\"])\n",
    "sp.set(xlabel='Days between tests',ylim=(0,0.25))\n",
    "ax = sp.axes.flatten()\n",
    "ax[0].set_ylabel('Outbreak probability')\n",
    "lab = ['a','b','c']\n",
    "for i in range(3):\n",
    "    ax[i].set_title('(%s) Extra compliance prob. = %.1f'%(lab[i],NCP[i]))\n",
    "\n",
    "ax[0].legend(loc='lower right',title='Scenario',borderpad=0.1,labelspacing=0.25)\n",
    "plt.tight_layout()\n",
    "mean_baseline = np.mean(dfball['outbreak'])\n",
    "for i in np.arange(3):\n",
    "    ax[i].plot(Tperiod.astype(\"|S3\"),mean_baseline*np.ones(len(Tperiod)),c='k')\n",
    "sp.savefig('test_outbreak_parcel.png')"
   ]
  },
  {
   "cell_type": "code",
   "execution_count": null,
   "metadata": {},
   "outputs": [],
   "source": [
    "sp = sns.catplot(x=\"tperiod\", y=\"NInfected\",hue='scenario',col='new_comply_prob',data=dfall,kind='point',\n",
    "                palette=paltest, legend=False, \\\n",
    "                 hue_order=['PCR - 0 delay', 'PCR - 1 day delay', 'PCR - 2 day delay','LFD'],\\\n",
    "                 markers=[\"x\", \"o\",\"+\",\"s\"], linestyles=[\"--\", \"-\",\":\",\"-\"])\n",
    "sp.set(xlabel='Days between tests', ylabel='Secondary cases',ylim=(0,3.5))\n",
    "ax = sp.axes.flatten()\n",
    "ax[0].legend(loc='lower right',title='Scenario',borderpad=0.1,labelspacing=0.25)\n",
    "mean_baseline = np.mean(dfball['NInfected'])\n",
    "for i in np.arange(3):\n",
    "    ax[i].plot(Tperiod.astype(\"|S3\"),mean_baseline*np.ones(len(Tperiod)),c='k')"
   ]
  },
  {
   "cell_type": "code",
   "execution_count": null,
   "metadata": {},
   "outputs": [],
   "source": [
    "dfNCP1 = dfall.loc[lambda DF: (DF['scenario'] == 'LFD') & \\\n",
    "           ((DF['tperiod'] == 2) | (DF['tperiod'] == 4) | \\\n",
    "            (DF['tperiod'] == 8) | (DF['tperiod'] == 14)) &\\\n",
    "           (DF['new_comply_prob']==1)]\n",
    "dfball['tperiod'] = 'No Testing'\n",
    "dfNCP1 = pd.concat([dfNCP1, dfball])\n",
    "sp = sns.catplot(x=\"tperiod\", y=\"NInfected\", data=dfNCP1, kind='boxen',height=4, aspect=8/4)\n",
    "sp.set(xlabel='Days between tests',ylabel='Secondary cases',ylim=(0,50))"
   ]
  },
  {
   "cell_type": "code",
   "execution_count": null,
   "metadata": {},
   "outputs": [],
   "source": [
    "Nbins = np.arange(-0.5,50.5,1)\n",
    "fig,ax = plt.subplots(figsize=(9,3))\n",
    "\n",
    "ax.hist(dfball['NInfected'],bins=Nbins,label='No testing',density=True)\n",
    "ax.hist(dfNCP1['NInfected'][dfNCP1['tperiod'] == 8],bins=Nbins,alpha=0.6,label='8 day LFD',density=True)\n",
    "ax.hist(dfNCP1['NInfected'][dfNCP1['tperiod'] == 4],bins=Nbins,alpha=0.6,label='4 day LFD',density=True)\n",
    "ax.hist(dfNCP1['NInfected'][dfNCP1['tperiod'] == 2],bins=Nbins,alpha=0.6,label='2 day LFD',density=True)\n",
    "ax.legend()\n",
    "ax.set_xlabel('Secondary cases')\n",
    "ax.set_ylabel('Fraction of simulations')\n",
    "ax.set_ylim(1E-4,1)\n",
    "ax.set_yscale('log')"
   ]
  },
  {
   "cell_type": "code",
   "execution_count": null,
   "metadata": {},
   "outputs": [],
   "source": [
    "Nbins = np.arange(-0.5,30.5,1)\n",
    "plt.hist(dfball['NInfected'],bins=Nbins,weights=(1/7.0)*np.ones(len(dfball)))\n",
    "plt.yscale('log')"
   ]
  },
  {
   "cell_type": "code",
   "execution_count": null,
   "metadata": {},
   "outputs": [],
   "source": []
  },
  {
   "cell_type": "code",
   "execution_count": null,
   "metadata": {},
   "outputs": [],
   "source": []
  }
 ],
 "metadata": {
  "kernelspec": {
   "display_name": "Python 3",
   "language": "python",
   "name": "python3"
  },
  "language_info": {
   "codemirror_mode": {
    "name": "ipython",
    "version": 3
   },
   "file_extension": ".py",
   "mimetype": "text/x-python",
   "name": "python",
   "nbconvert_exporter": "python",
   "pygments_lexer": "ipython3",
   "version": "3.7.6"
  }
 },
 "nbformat": 4,
 "nbformat_minor": 4
}
