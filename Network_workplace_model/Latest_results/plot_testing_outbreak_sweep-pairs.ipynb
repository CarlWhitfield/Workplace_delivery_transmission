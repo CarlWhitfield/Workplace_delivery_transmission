{
 "cells": [
  {
   "cell_type": "code",
   "execution_count": 1,
   "metadata": {},
   "outputs": [],
   "source": [
    "import pandas as pd\n",
    "import numpy as np\n",
    "import seaborn as sns\n",
    "import matplotlib.pyplot as plt\n",
    "import scipy.stats as stats\n",
    "sns.set(font_scale=1.5)"
   ]
  },
  {
   "cell_type": "markdown",
   "metadata": {},
   "source": [
    "**************************************************\n",
    "\n",
    "Testing param sweep -- large-goods wp\n",
    "\n",
    "**************************************************"
   ]
  },
  {
   "cell_type": "code",
   "execution_count": 2,
   "metadata": {},
   "outputs": [
    {
     "data": {
      "text/plain": [
       "Index(['Group', 'NStaff', 'Iteration', 'FracRecovered', 'FomiteInfectionFrac',\n",
       "       'CohortInfectionFrac', 'RandContactInfectionFrac', 'PairInfectionFrac',\n",
       "       'RoomInfectionFrac', 'ExtIntroFrac', 'CustIntroFrac', 'CarShareInfFrac',\n",
       "       'HouseShareInfFrac', 'CustomersInfected', 'IsolatorsFrac',\n",
       "       'SympIsolatorsFrac', 'FPIsolatorsFrac', 'TPSympIsolatorsFrac',\n",
       "       'TPAsympIsolatorsFrac', 'IndexCaseInfections', 'IndexCaseViralLoad',\n",
       "       'IndexCaseInfectivity', 'OverallOutbreakLength', 'fixed_loader_pairs',\n",
       "       'is_testing', 'protocol', 'tperiod', 'specificity',\n",
       "       'fixed_driver_pairs', 'new_comply_prob', 'tD', 'SimType', 'TeamTimes',\n",
       "       'phi', 'TeamDistances', 'is_driver_pairs', 'InfInit',\n",
       "       'HouseShareFactor', 'CarShareFactor', 'Psusc', 'delay', 'Pisol',\n",
       "       'NDteams', 'is_cohorts', 'is_loader_pairs', 'p_contact', 'test_pause',\n",
       "       'is_window_open', 'NOteams', 'TeamsOutside', 'pair_isolation',\n",
       "       'NLteams', 'NRecovered', 'NInfected', 'outbreak'],\n",
       "      dtype='object')"
      ]
     },
     "execution_count": 2,
     "metadata": {},
     "output_type": "execute_result"
    }
   ],
   "source": [
    "df = pd.read_pickle(\"testing_sweep_pairs.pkl\",compression='bz2')\n",
    "df['NRecovered'] = df['FracRecovered']*df['NStaff']\n",
    "df['NInfected'] = df['NRecovered']-1\n",
    "df['outbreak'] = (df['NRecovered'] > 3)\n",
    "df.columns"
   ]
  },
  {
   "cell_type": "code",
   "execution_count": 14,
   "metadata": {},
   "outputs": [
    {
     "name": "stdout",
     "output_type": "stream",
     "text": [
      "0          0.0\n",
      "1          0.0\n",
      "2          0.0\n",
      "3          0.0\n",
      "4          0.0\n",
      "          ... \n",
      "3639995    0.0\n",
      "3639996    0.0\n",
      "3639997    0.0\n",
      "3639998    0.0\n",
      "3639999    0.0\n",
      "Name: delay, Length: 3640000, dtype: float64\n"
     ]
    }
   ],
   "source": [
    "dfbaseline = df.loc[lambda DF: (DF['protocol'] == 'No testing')]\n",
    "dfball = dfbaseline.loc[lambda DF: (DF['Group'] == 'All')]"
   ]
  },
  {
   "cell_type": "code",
   "execution_count": 15,
   "metadata": {},
   "outputs": [
    {
     "name": "stderr",
     "output_type": "stream",
     "text": [
      "/Users/carlwhitfield/opt/anaconda3/lib/python3.7/site-packages/ipykernel_launcher.py:2: SettingWithCopyWarning: \n",
      "A value is trying to be set on a copy of a slice from a DataFrame\n",
      "\n",
      "See the caveats in the documentation: https://pandas.pydata.org/pandas-docs/stable/user_guide/indexing.html#returning-a-view-versus-a-copy\n",
      "  \n",
      "/Users/carlwhitfield/opt/anaconda3/lib/python3.7/site-packages/ipykernel_launcher.py:3: SettingWithCopyWarning: \n",
      "A value is trying to be set on a copy of a slice from a DataFrame\n",
      "\n",
      "See the caveats in the documentation: https://pandas.pydata.org/pandas-docs/stable/user_guide/indexing.html#returning-a-view-versus-a-copy\n",
      "  This is separate from the ipykernel package so we can avoid doing imports until\n"
     ]
    },
    {
     "name": "stdout",
     "output_type": "stream",
     "text": [
      "0          LFD_mass_testing\n",
      "1          LFD_mass_testing\n",
      "2          LFD_mass_testing\n",
      "3          LFD_mass_testing\n",
      "4          LFD_mass_testing\n",
      "                 ...       \n",
      "3359995    PCR_mass_testing\n",
      "3359996    PCR_mass_testing\n",
      "3359997    PCR_mass_testing\n",
      "3359998    PCR_mass_testing\n",
      "3359999    PCR_mass_testing\n",
      "Name: protocol, Length: 3360000, dtype: object\n",
      "[0. 1. 2.]\n",
      "II =  [0]\n",
      "TD =  [0.1]\n",
      "Phi =  [0.1]\n",
      "Pisol =  [0.5]\n",
      "Specificity =  [0.99]\n",
      "Random contact rate =  [0.04545455]\n",
      "Staff totals =  [ 8 16 20 44]\n"
     ]
    }
   ],
   "source": [
    "dftest = df.loc[lambda DF: (DF['protocol'] != 'No testing')]\n",
    "dftest['protocol'][dftest['protocol']=='1'] = 'PCR_mass_testing'\n",
    "dftest['protocol'][dftest['protocol']==2] = 'LFD_mass_testing'\n",
    "print(dftest['protocol'])\n",
    "TProtos = np.array(['PCR_mass_testing','LFD_mass_testing'])\n",
    "Delays = np.unique(dftest[\"delay\"])\n",
    "NCP = np.unique(dftest[\"new_comply_prob\"])\n",
    "Tperiod = np.unique(dftest[\"tperiod\"])\n",
    "print(Delays)\n",
    "print('II = ', np.unique(dftest[\"InfInit\"]))\n",
    "print('TD = ', np.unique(dftest[\"tD\"]))\n",
    "print('Phi = ', np.unique(dftest['phi']))\n",
    "print('Pisol = ', np.unique(dftest['Pisol']))\n",
    "print('Specificity = ', np.unique(dftest['specificity']))\n",
    "print('Random contact rate = ', np.unique(dftest['p_contact']))\n",
    "print('Staff totals = ', np.unique(dftest['NStaff']))"
   ]
  },
  {
   "cell_type": "code",
   "execution_count": 13,
   "metadata": {},
   "outputs": [
    {
     "name": "stderr",
     "output_type": "stream",
     "text": [
      "/Users/carlwhitfield/opt/anaconda3/lib/python3.7/site-packages/ipykernel_launcher.py:2: SettingWithCopyWarning: \n",
      "A value is trying to be set on a copy of a slice from a DataFrame.\n",
      "Try using .loc[row_indexer,col_indexer] = value instead\n",
      "\n",
      "See the caveats in the documentation: https://pandas.pydata.org/pandas-docs/stable/user_guide/indexing.html#returning-a-view-versus-a-copy\n",
      "  \n",
      "/Users/carlwhitfield/opt/anaconda3/lib/python3.7/site-packages/pandas/core/indexing.py:965: SettingWithCopyWarning: \n",
      "A value is trying to be set on a copy of a slice from a DataFrame.\n",
      "Try using .loc[row_indexer,col_indexer] = value instead\n",
      "\n",
      "See the caveats in the documentation: https://pandas.pydata.org/pandas-docs/stable/user_guide/indexing.html#returning-a-view-versus-a-copy\n",
      "  self.obj[item] = s\n"
     ]
    },
    {
     "name": "stdout",
     "output_type": "stream",
     "text": [
      "210000\n",
      "0\n",
      "0\n",
      "320\n"
     ]
    }
   ],
   "source": [
    "dfall = dftest.loc[dftest['Group']=='All',:]\n",
    "dfall['scenario'] = np.zeros(len(dfall),dtype=np.object)\n",
    "dfall.loc[lambda df: (df[\"protocol\"]=='LFD_mass_testing'),'scenario'] = \"LFD\"\n",
    "dfall.loc[lambda df: (df[\"protocol\"]=='PCR_mass_testing') &\\\n",
    "                     (df[\"delay\"]==0),'scenario'] = \"PCR - 0 delay\"\n",
    "dfall.loc[lambda df: (df[\"protocol\"]=='PCR_mass_testing') &\\\n",
    "                     (df[\"delay\"]==1),'scenario'] = \"PCR - 1 day delay\"\n",
    "dfall.loc[lambda df: (df[\"protocol\"]=='PCR_mass_testing') &\\\n",
    "                     (df[\"delay\"]==2),'scenario'] = \"PCR - 2 day delay\"\n",
    "\n",
    "print(sum(dfall['scenario'] == \"LFD\"))\n",
    "print(sum(dfall['scenario'] == \"PCR - 0 delay\"))\n",
    "print(sum(dfall['scenario'] == \"PCR - 1 day delay\"))\n",
    "print(sum(dfall['scenario'] == \"PCR - 2 day delay\"))\n"
   ]
  },
  {
   "cell_type": "code",
   "execution_count": null,
   "metadata": {},
   "outputs": [],
   "source": [
    "sns.set_color_codes()\n",
    "\n",
    "CL = 'C0'\n",
    "CP0 = \"C1\"\n",
    "CP1 = \"C1\"\n",
    "CP2 = \"C1\"\n",
    "\n",
    "paltest={'LFD':CL, 'PCR - 0 delay':CP0, 'PCR - 1 day delay':CP1, 'PCR - 2 day delay':CP2}\n",
    "\n",
    "sp = sns.catplot(x=\"tperiod\", y=\"outbreak\",hue='scenario',col='new_comply_prob',\\\n",
    "                 data=dfall,kind='point',palette=paltest, legend=False, \\\n",
    "                 hue_order=['PCR - 0 delay', 'PCR - 1 day delay', 'PCR - 2 day delay','LFD'],\\\n",
    "                 markers=[\"x\", \"o\",\"+\",\"s\"], linestyles=[\"--\", \"-\",\":\",\"-\"])\n",
    "sp.set(xlabel='Days between tests',ylim=(0,0.4))\n",
    "ax = sp.axes.flatten()\n",
    "ax[0].set_ylabel('Outbreak probability')\n",
    "lab = ['a','b','c']\n",
    "for i in range(3):\n",
    "    ax[i].set_title('(%s) Extra compliance prob. = %.1f'%(lab[i],NCP[i]))\n",
    "\n",
    "ax[0].legend(loc='lower right',title='Scenario',labelspacing=0.25)\n",
    "plt.tight_layout()\n",
    "mean_baseline = np.mean(dfball['outbreak'])\n",
    "for i in np.arange(3):\n",
    "    ax[i].plot(Tperiod.astype(\"|S3\"),mean_baseline*np.ones(len(Tperiod)),c='k')\n",
    "sp.savefig('test_outbreak_pairs.png')"
   ]
  },
  {
   "cell_type": "code",
   "execution_count": null,
   "metadata": {},
   "outputs": [],
   "source": [
    "sp = sns.catplot(x=\"tperiod\", y=\"NInfected\",hue='scenario',col='new_comply_prob',data=dfall,kind='point')\n",
    "sp.set(xlabel='Days between tests', ylabel='Secondary cases',ylim=(0,5.0))\n",
    "ax = sp.axes.flatten()\n",
    "mean_baseline = np.mean(dfball['NInfected'])\n",
    "for i in np.arange(3):\n",
    "    ax[i].plot(Tperiod.astype(\"|S3\"),mean_baseline*np.ones(len(Tperiod)),c='k')"
   ]
  },
  {
   "cell_type": "code",
   "execution_count": null,
   "metadata": {},
   "outputs": [],
   "source": [
    "dfNCP1 = dfall.loc[lambda DF: (DF['scenario'] == 'LFD') & \\\n",
    "           ((DF['tperiod'] == 2) | (DF['tperiod'] == 4) | \\\n",
    "            (DF['tperiod'] == 8) | (DF['tperiod'] == 14)) &\\\n",
    "           (DF['new_comply_prob']==1)]\n",
    "dfball['tperiod'] = 'No Testing'\n",
    "dfNCP1 = pd.concat([dfNCP1, dfball])\n",
    "sp = sns.catplot(x=\"tperiod\", y=\"NInfected\", data=dfNCP1, kind='violin',height=4, aspect=12/4)\n",
    "sp.set(xlabel='Days between tests',ylabel='Secondary cases',ylim=(0,20))"
   ]
  },
  {
   "cell_type": "code",
   "execution_count": null,
   "metadata": {},
   "outputs": [],
   "source": [
    "Nbins = np.arange(-0.5,50.5,1)\n",
    "fig,ax = plt.subplots(figsize=(9,3))\n",
    "\n",
    "ax.hist(dfball['NInfected'],bins=Nbins,label='No testing',density=True)\n",
    "ax.hist(dfNCP1['NInfected'][dfNCP1['tperiod'] == 8],bins=Nbins,alpha=0.6,label='8 day LFD',density=True)\n",
    "ax.hist(dfNCP1['NInfected'][dfNCP1['tperiod'] == 4],bins=Nbins,alpha=0.6,label='4 day LFD',density=True)\n",
    "ax.hist(dfNCP1['NInfected'][dfNCP1['tperiod'] == 2],bins=Nbins,alpha=0.6,label='2 day LFD',density=True)\n",
    "ax.legend()\n",
    "ax.set_xlabel('Secondary cases')\n",
    "ax.set_ylabel('Fraction of simulations')\n",
    "ax.set_ylim(1E-4,1)\n",
    "ax.set_yscale('log')"
   ]
  },
  {
   "cell_type": "markdown",
   "metadata": {},
   "source": [
    "## "
   ]
  },
  {
   "cell_type": "code",
   "execution_count": null,
   "metadata": {},
   "outputs": [],
   "source": []
  },
  {
   "cell_type": "code",
   "execution_count": null,
   "metadata": {},
   "outputs": [],
   "source": []
  }
 ],
 "metadata": {
  "kernelspec": {
   "display_name": "Python 3",
   "language": "python",
   "name": "python3"
  },
  "language_info": {
   "codemirror_mode": {
    "name": "ipython",
    "version": 3
   },
   "file_extension": ".py",
   "mimetype": "text/x-python",
   "name": "python",
   "nbconvert_exporter": "python",
   "pygments_lexer": "ipython3",
   "version": "3.7.6"
  }
 },
 "nbformat": 4,
 "nbformat_minor": 4
}
