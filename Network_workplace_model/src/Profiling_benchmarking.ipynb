{
 "cells": [
  {
   "cell_type": "code",
   "execution_count": 5,
   "metadata": {},
   "outputs": [
    {
     "name": "stderr",
     "output_type": "stream",
     "text": [
      "WARNING: redefinition of constant edge_colours. This may fail, cause incorrect answers, or produce other errors.\n",
      "WARNING: redefinition of constant ParcelTimesPerDelivery. This may fail, cause incorrect answers, or produce other errors.\n",
      "WARNING: redefinition of constant BulkTimesPerDelivery. This may fail, cause incorrect answers, or produce other errors.\n",
      "WARNING: redefinition of constant job_labels. This may fail, cause incorrect answers, or produce other errors.\n",
      "WARNING: redefinition of constant job_names. This may fail, cause incorrect answers, or produce other errors.\n",
      "WARNING: redefinition of constant job_colours. This may fail, cause incorrect answers, or produce other errors.\n",
      "WARNING: redefinition of constant stat_labels. This may fail, cause incorrect answers, or produce other errors.\n",
      "WARNING: redefinition of constant stat_colours. This may fail, cause incorrect answers, or produce other errors.\n",
      "WARNING: redefinition of constant inf_colours. This may fail, cause incorrect answers, or produce other errors.\n"
     ]
    }
   ],
   "source": [
    "include(\"network_transmission_workplace.jl\")\n",
    "using Profile\n",
    "using ProfileView\n",
    "using BenchmarkTools"
   ]
  },
  {
   "cell_type": "code",
   "execution_count": 2,
   "metadata": {},
   "outputs": [
    {
     "data": {
      "text/plain": [
       "90-element Array{Float64,1}:\n",
       " 0.0\n",
       " 0.0\n",
       " 0.0\n",
       " 0.0\n",
       " 0.0\n",
       " 0.0\n",
       " 0.0\n",
       " 0.0\n",
       " 0.0\n",
       " 0.0\n",
       " 0.0\n",
       " 0.0\n",
       " 0.0\n",
       " ⋮\n",
       " 0.0\n",
       " 0.0\n",
       " 0.0\n",
       " 0.0\n",
       " 0.0\n",
       " 0.0\n",
       " 0.0\n",
       " 0.0\n",
       " 0.0\n",
       " 0.0\n",
       " 0.0\n",
       " 0.0"
      ]
     },
     "execution_count": 2,
     "metadata": {},
     "output_type": "execute_result"
    }
   ],
   "source": [
    "Params = Dict(\"ND\"=>38, \"NL\"=>20, \"NO\"=>10, \"NDteams\"=>3, \"NLteams\"=>2, \"NOteams\"=>2,\n",
    "                 \"is_cohorts\"=>true, \"Pisol\"=>0.5, \"Psusc\"=>1.0, \"p_contact\"=>(2.0/(38 + 20 + 10)),\n",
    "                 \"tD\"=>0.05,\"phi\"=>0.1, \"InfInit\"=>0, \"SimType\"=>Outbreak_sim,\n",
    "                 \"TeamTimes\"=>[0.25,1.0,1.0], \"TeamsOutside\"=>[true,true,false], \n",
    "                 \"TeamDistances\"=>[2.0,2.0,2.0], \"HouseShareFactor\"=>0.5, \"CarShareFactor\"=>0.5)\n",
    "\n",
    "OccPerDay = ones(90)\n",
    "NP = 3000*ones(Int64,90)\n",
    "#if empty args are given, revert to default\n",
    "PkgParams=DefaultPkgParams\n",
    "PairParams=DefaultPairParams\n",
    "TestParams=DefaultTestParams\n",
    "Incidence = zeros(length(OccPerDay))\n",
    "Prevalence = zeros(length(OccPerDay))"
   ]
  },
  {
   "cell_type": "code",
   "execution_count": 14,
   "metadata": {},
   "outputs": [
    {
     "data": {
      "text/plain": [
       "BenchmarkTools.Trial: 10000 samples with 1 evaluation.\n",
       " Range \u001b[90m(\u001b[39m\u001b[36m\u001b[1mmin\u001b[22m\u001b[39m … \u001b[35mmax\u001b[39m\u001b[90m):  \u001b[39m\u001b[36m\u001b[1m 3.145 ms\u001b[22m\u001b[39m … \u001b[35m617.108 ms\u001b[39m  \u001b[90m┊\u001b[39m GC \u001b[90m(\u001b[39mmin … max\u001b[90m): \u001b[39m 0.00% … 11.44%\n",
       " Time  \u001b[90m(\u001b[39m\u001b[34m\u001b[1mmedian\u001b[22m\u001b[39m\u001b[90m):     \u001b[39m\u001b[34m\u001b[1m10.651 ms               \u001b[22m\u001b[39m\u001b[90m┊\u001b[39m GC \u001b[90m(\u001b[39mmedian\u001b[90m):    \u001b[39m 0.00%\n",
       " Time  \u001b[90m(\u001b[39m\u001b[32m\u001b[1mmean\u001b[22m\u001b[39m ± \u001b[32mσ\u001b[39m\u001b[90m):   \u001b[39m\u001b[32m\u001b[1m19.347 ms\u001b[22m\u001b[39m ± \u001b[32m 21.693 ms\u001b[39m  \u001b[90m┊\u001b[39m GC \u001b[90m(\u001b[39mmean ± σ\u001b[90m):  \u001b[39m10.19% ± 13.63%\n",
       "\n",
       "  \u001b[39m▃\u001b[39m▇\u001b[39m█\u001b[39m█\u001b[39m▇\u001b[34m▆\u001b[39m\u001b[39m▆\u001b[39m▅\u001b[39m▅\u001b[39m▅\u001b[39m▄\u001b[32m▄\u001b[39m\u001b[39m▄\u001b[39m▄\u001b[39m▃\u001b[39m▃\u001b[39m▂\u001b[39m▂\u001b[39m▂\u001b[39m▂\u001b[39m▂\u001b[39m▁\u001b[39m▁\u001b[39m▁\u001b[39m \u001b[39m \u001b[39m▁\u001b[39m▁\u001b[39m \u001b[39m \u001b[39m \u001b[39m▁\u001b[39m▁\u001b[39m \u001b[39m \u001b[39m▁\u001b[39m \u001b[39m \u001b[39m▁\u001b[39m▁\u001b[39m▁\u001b[39m▁\u001b[39m \u001b[39m \u001b[39m \u001b[39m \u001b[39m \u001b[39m \u001b[39m \u001b[39m▁\u001b[39m \u001b[39m \u001b[39m \u001b[39m \u001b[39m \u001b[39m \u001b[39m \u001b[39m \u001b[39m \u001b[39m \u001b[39m \u001b[39m▃\n",
       "  \u001b[39m█\u001b[39m█\u001b[39m█\u001b[39m█\u001b[39m█\u001b[34m█\u001b[39m\u001b[39m█\u001b[39m█\u001b[39m█\u001b[39m█\u001b[39m█\u001b[32m█\u001b[39m\u001b[39m█\u001b[39m█\u001b[39m█\u001b[39m█\u001b[39m█\u001b[39m█\u001b[39m█\u001b[39m█\u001b[39m█\u001b[39m█\u001b[39m█\u001b[39m█\u001b[39m█\u001b[39m█\u001b[39m█\u001b[39m█\u001b[39m█\u001b[39m█\u001b[39m█\u001b[39m█\u001b[39m█\u001b[39m█\u001b[39m█\u001b[39m█\u001b[39m█\u001b[39m█\u001b[39m█\u001b[39m█\u001b[39m█\u001b[39m█\u001b[39m█\u001b[39m█\u001b[39m█\u001b[39m█\u001b[39m█\u001b[39m█\u001b[39m█\u001b[39m█\u001b[39m▇\u001b[39m█\u001b[39m▇\u001b[39m▇\u001b[39m▇\u001b[39m█\u001b[39m▇\u001b[39m▇\u001b[39m▇\u001b[39m▇\u001b[39m \u001b[39m█\n",
       "  3.14 ms\u001b[90m       \u001b[39m\u001b[90mHistogram: \u001b[39m\u001b[90m\u001b[1mlog(\u001b[22m\u001b[39m\u001b[90mfrequency\u001b[39m\u001b[90m\u001b[1m)\u001b[22m\u001b[39m\u001b[90m by time\u001b[39m      93.9 ms \u001b[0m\u001b[1m<\u001b[22m\n",
       "\n",
       " Memory estimate\u001b[90m: \u001b[39m\u001b[33m2.30 MiB\u001b[39m, allocs estimate\u001b[90m: \u001b[39m\u001b[33m16770\u001b[39m."
      ]
     },
     "execution_count": 14,
     "metadata": {},
     "output_type": "execute_result"
    }
   ],
   "source": [
    "@benchmark run_sim_delivery_wp(P, O, NPh) setup= (P = copy(Params); O = copy(OccPerDay); NPh = copy(NP)) seconds = 600"
   ]
  },
  {
   "cell_type": "code",
   "execution_count": 19,
   "metadata": {},
   "outputs": [
    {
     "data": {
      "text/plain": [
       "Gtk.GtkWindowLeaf(name=\"\", parent, width-request=-1, height-request=-1, visible=TRUE, sensitive=TRUE, app-paintable=FALSE, can-focus=FALSE, has-focus=FALSE, is-focus=FALSE, focus-on-click=TRUE, can-default=FALSE, has-default=FALSE, receives-default=FALSE, composite-child=FALSE, style, events=0, no-show-all=FALSE, has-tooltip=FALSE, tooltip-markup=NULL, tooltip-text=NULL, window, opacity=1.000000, double-buffered, halign=GTK_ALIGN_FILL, valign=GTK_ALIGN_FILL, margin-left, margin-right, margin-start=0, margin-end=0, margin-top=0, margin-bottom=0, margin=0, hexpand=FALSE, vexpand=FALSE, hexpand-set=FALSE, vexpand-set=FALSE, expand=FALSE, scale-factor=2, border-width=0, resize-mode, child, type=GTK_WINDOW_TOPLEVEL, title=\"Profile\", role=NULL, resizable=TRUE, modal=FALSE, window-position=GTK_WIN_POS_NONE, default-width=800, default-height=600, destroy-with-parent=FALSE, hide-titlebar-when-maximized=FALSE, icon, icon-name=NULL, screen, type-hint=GDK_WINDOW_TYPE_HINT_NORMAL, skip-taskbar-hint=FALSE, skip-pager-hint=FALSE, urgency-hint=FALSE, accept-focus=TRUE, focus-on-map=TRUE, decorated=TRUE, deletable=TRUE, gravity=GDK_GRAVITY_NORTH_WEST, transient-for, attached-to, has-resize-grip, resize-grip-visible, application, is-active=FALSE, has-toplevel-focus=FALSE, startup-id, mnemonics-visible=FALSE, focus-visible=FALSE, is-maximized=FALSE)"
      ]
     },
     "execution_count": 19,
     "metadata": {},
     "output_type": "execute_result"
    }
   ],
   "source": [
    "Profile.clear()\n",
    "Profile.init(delay=1e-6)\n",
    "@profile run_sim_delivery_wp(Params, OccPerDay, NP)\n",
    "ProfileView.view()\n",
    "#best thing to do now is probably to make sure we are not adding unnecessary edges to network"
   ]
  },
  {
   "cell_type": "code",
   "execution_count": null,
   "metadata": {},
   "outputs": [],
   "source": [
    "@benchmark initialise(P, PP, Inc, Prev) setup=\n",
    "      (P = copy(Params_in); PP = copy(DefaultPairParams); Inc = copy(Incidence); Prev = copy(Prevalence))"
   ]
  },
  {
   "cell_type": "code",
   "execution_count": null,
   "metadata": {},
   "outputs": [],
   "source": [
    "@benchmark init(P, Inc, Prev) setup =\n",
    "      (P = copy(Params_in); Inc = copy(Incidence); Prev = copy(Prevalence))"
   ]
  },
  {
   "cell_type": "code",
   "execution_count": null,
   "metadata": {},
   "outputs": [],
   "source": [
    "sim = init(Params_in, Incidence, Prevalence)\n",
    "Nteams = [Params_in[\"NDteams\"],Params_in[\"NLteams\"],Params_in[\"NOteams\"]]\n",
    "@benchmark generate_cohort_graph!(s, NT, TT, TO, TD) setup = \n",
    "    (s = copy(sim); NT = copy(Nteams); TT = copy(Params_in[\"TeamTimes\"]); \n",
    "    TO = copy(Params_in[\"TeamsOutside\"]); TD = copy(Params_in[\"TeamDistances\"]))"
   ]
  },
  {
   "cell_type": "code",
   "execution_count": 87,
   "metadata": {},
   "outputs": [
    {
     "name": "stdout",
     "output_type": "stream",
     "text": [
      "search: \u001b[0m\u001b[1mf\u001b[22m\u001b[0m\u001b[1mi\u001b[22m\u001b[0m\u001b[1ml\u001b[22m\u001b[0m\u001b[1ml\u001b[22m \u001b[0m\u001b[1mf\u001b[22m\u001b[0m\u001b[1mi\u001b[22m\u001b[0m\u001b[1ml\u001b[22m\u001b[0m\u001b[1ml\u001b[22m! \u001b[0m\u001b[1mf\u001b[22m\u001b[0m\u001b[1mi\u001b[22m\u001b[0m\u001b[1ml\u001b[22m\u001b[0m\u001b[1ml\u001b[22mopacity \u001b[0m\u001b[1mf\u001b[22m\u001b[0m\u001b[1mi\u001b[22m\u001b[0m\u001b[1ml\u001b[22m\u001b[0m\u001b[1ml\u001b[22m_preserve set_\u001b[0m\u001b[1mf\u001b[22m\u001b[0m\u001b[1mi\u001b[22m\u001b[0m\u001b[1ml\u001b[22m\u001b[0m\u001b[1ml\u001b[22m_type \u001b[0m\u001b[1mf\u001b[22m\u001b[0m\u001b[1mi\u001b[22mna\u001b[0m\u001b[1ml\u001b[22m\u001b[0m\u001b[1ml\u001b[22my \u001b[0m\u001b[1mf\u001b[22m\u001b[0m\u001b[1mi\u001b[22mnda\u001b[0m\u001b[1ml\u001b[22m\u001b[0m\u001b[1ml\u001b[22m\n",
      "\n"
     ]
    },
    {
     "data": {
      "text/latex": [
       "\\begin{verbatim}\n",
       "fill(x, dims::Tuple)\n",
       "fill(x, dims...)\n",
       "\\end{verbatim}\n",
       "Create an array filled with the value \\texttt{x}. For example, \\texttt{fill(1.0, (5,5))} returns a 5×5 array of floats, with each element initialized to \\texttt{1.0}.\n",
       "\n",
       "\\texttt{dims} may be specified as either a tuple or a sequence of arguments. For example, the common idiom \\texttt{fill(x)} creates a zero-dimensional array containing the single value \\texttt{x}.\n",
       "\n",
       "\\section{Examples}\n",
       "\\begin{verbatim}\n",
       "julia> fill(1.0, (2,3))\n",
       "2×3 Array{Float64,2}:\n",
       " 1.0  1.0  1.0\n",
       " 1.0  1.0  1.0\n",
       "\n",
       "julia> fill(42)\n",
       "0-dimensional Array{Int64,0}:\n",
       "42\n",
       "\\end{verbatim}\n",
       "If \\texttt{x} is an object reference, all elements will refer to the same object:\n",
       "\n",
       "\\begin{verbatim}\n",
       "julia> A = fill(zeros(2), 2);\n",
       "\n",
       "julia> A[1][1] = 42; # modifies both A[1][1] and A[2][1]\n",
       "\n",
       "julia> A\n",
       "2-element Array{Array{Float64,1},1}:\n",
       " [42.0, 0.0]\n",
       " [42.0, 0.0]\n",
       "\\end{verbatim}\n",
       "\\rule{\\textwidth}{1pt}\n",
       "\\begin{verbatim}\n",
       "fill(gc::GraphicsContext)\n",
       "\\end{verbatim}\n",
       "Fill the current path according to the current fill rule. The current path will be cleared from the context.\n",
       "\n",
       "See also: \\href{@ref}{\\texttt{fill\\_preserve}}.\n",
       "\n",
       "\\rule{\\textwidth}{1pt}\n",
       "\\begin{verbatim}\n",
       "fill(c)\n",
       "\\end{verbatim}\n",
       "Define a fill color, where \\texttt{c} can be a \\texttt{Colorant} or \\texttt{String}.\n",
       "\n",
       "\\rule{\\textwidth}{1pt}\n",
       "\\begin{verbatim}\n",
       "fill(cs::AbstractArray)\n",
       "\\end{verbatim}\n",
       "Arguments can be passed in arrays in order to perform multiple drawing operations at once.\n",
       "\n"
      ],
      "text/markdown": [
       "```\n",
       "fill(x, dims::Tuple)\n",
       "fill(x, dims...)\n",
       "```\n",
       "\n",
       "Create an array filled with the value `x`. For example, `fill(1.0, (5,5))` returns a 5×5 array of floats, with each element initialized to `1.0`.\n",
       "\n",
       "`dims` may be specified as either a tuple or a sequence of arguments. For example, the common idiom `fill(x)` creates a zero-dimensional array containing the single value `x`.\n",
       "\n",
       "# Examples\n",
       "\n",
       "```jldoctest\n",
       "julia> fill(1.0, (2,3))\n",
       "2×3 Array{Float64,2}:\n",
       " 1.0  1.0  1.0\n",
       " 1.0  1.0  1.0\n",
       "\n",
       "julia> fill(42)\n",
       "0-dimensional Array{Int64,0}:\n",
       "42\n",
       "```\n",
       "\n",
       "If `x` is an object reference, all elements will refer to the same object:\n",
       "\n",
       "```jldoctest\n",
       "julia> A = fill(zeros(2), 2);\n",
       "\n",
       "julia> A[1][1] = 42; # modifies both A[1][1] and A[2][1]\n",
       "\n",
       "julia> A\n",
       "2-element Array{Array{Float64,1},1}:\n",
       " [42.0, 0.0]\n",
       " [42.0, 0.0]\n",
       "```\n",
       "\n",
       "---\n",
       "\n",
       "```\n",
       "fill(gc::GraphicsContext)\n",
       "```\n",
       "\n",
       "Fill the current path according to the current fill rule. The current path will be cleared from the context.\n",
       "\n",
       "See also: [`fill_preserve`](@ref).\n",
       "\n",
       "---\n",
       "\n",
       "```\n",
       "fill(c)\n",
       "```\n",
       "\n",
       "Define a fill color, where `c` can be a `Colorant` or `String`.\n",
       "\n",
       "---\n",
       "\n",
       "```\n",
       "fill(cs::AbstractArray)\n",
       "```\n",
       "\n",
       "Arguments can be passed in arrays in order to perform multiple drawing operations at once.\n"
      ],
      "text/plain": [
       "\u001b[36m  fill(x, dims::Tuple)\u001b[39m\n",
       "\u001b[36m  fill(x, dims...)\u001b[39m\n",
       "\n",
       "  Create an array filled with the value \u001b[36mx\u001b[39m. For example, \u001b[36mfill(1.0, (5,5))\u001b[39m\n",
       "  returns a 5×5 array of floats, with each element initialized to \u001b[36m1.0\u001b[39m.\n",
       "\n",
       "  \u001b[36mdims\u001b[39m may be specified as either a tuple or a sequence of arguments. For\n",
       "  example, the common idiom \u001b[36mfill(x)\u001b[39m creates a zero-dimensional array\n",
       "  containing the single value \u001b[36mx\u001b[39m.\n",
       "\n",
       "\u001b[1m  Examples\u001b[22m\n",
       "\u001b[1m  ≡≡≡≡≡≡≡≡≡≡\u001b[22m\n",
       "\n",
       "\u001b[36m  julia> fill(1.0, (2,3))\u001b[39m\n",
       "\u001b[36m  2×3 Array{Float64,2}:\u001b[39m\n",
       "\u001b[36m   1.0  1.0  1.0\u001b[39m\n",
       "\u001b[36m   1.0  1.0  1.0\u001b[39m\n",
       "\u001b[36m  \u001b[39m\n",
       "\u001b[36m  julia> fill(42)\u001b[39m\n",
       "\u001b[36m  0-dimensional Array{Int64,0}:\u001b[39m\n",
       "\u001b[36m  42\u001b[39m\n",
       "\n",
       "  If \u001b[36mx\u001b[39m is an object reference, all elements will refer to the same object:\n",
       "\n",
       "\u001b[36m  julia> A = fill(zeros(2), 2);\u001b[39m\n",
       "\u001b[36m  \u001b[39m\n",
       "\u001b[36m  julia> A[1][1] = 42; # modifies both A[1][1] and A[2][1]\u001b[39m\n",
       "\u001b[36m  \u001b[39m\n",
       "\u001b[36m  julia> A\u001b[39m\n",
       "\u001b[36m  2-element Array{Array{Float64,1},1}:\u001b[39m\n",
       "\u001b[36m   [42.0, 0.0]\u001b[39m\n",
       "\u001b[36m   [42.0, 0.0]\u001b[39m\n",
       "\n",
       "  ────────────────────────────────────────────────────────────────────────────\n",
       "\n",
       "\u001b[36m  fill(gc::GraphicsContext)\u001b[39m\n",
       "\n",
       "  Fill the current path according to the current fill rule. The current path\n",
       "  will be cleared from the context.\n",
       "\n",
       "  See also: \u001b[36mfill_preserve\u001b[39m.\n",
       "\n",
       "  ────────────────────────────────────────────────────────────────────────────\n",
       "\n",
       "\u001b[36m  fill(c)\u001b[39m\n",
       "\n",
       "  Define a fill color, where \u001b[36mc\u001b[39m can be a \u001b[36mColorant\u001b[39m or \u001b[36mString\u001b[39m.\n",
       "\n",
       "  ────────────────────────────────────────────────────────────────────────────\n",
       "\n",
       "\u001b[36m  fill(cs::AbstractArray)\u001b[39m\n",
       "\n",
       "  Arguments can be passed in arrays in order to perform multiple drawing\n",
       "  operations at once."
      ]
     },
     "execution_count": 87,
     "metadata": {},
     "output_type": "execute_result"
    }
   ],
   "source": [
    "?fill"
   ]
  },
  {
   "cell_type": "code",
   "execution_count": null,
   "metadata": {},
   "outputs": [],
   "source": []
  }
 ],
 "metadata": {
  "kernelspec": {
   "display_name": "Julia 1.5.3",
   "language": "julia",
   "name": "julia-1.5"
  },
  "language_info": {
   "file_extension": ".jl",
   "mimetype": "application/julia",
   "name": "julia",
   "version": "1.5.3"
  }
 },
 "nbformat": 4,
 "nbformat_minor": 4
}
