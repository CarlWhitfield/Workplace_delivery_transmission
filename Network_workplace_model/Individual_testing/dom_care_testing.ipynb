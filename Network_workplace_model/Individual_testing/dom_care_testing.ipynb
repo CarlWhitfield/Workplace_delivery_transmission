{
 "cells": [
  {
   "cell_type": "code",
   "execution_count": 26,
   "metadata": {},
   "outputs": [],
   "source": [
    "include(\"viral_load_infectivity_testpos.jl\")\n",
    "using StatsPlots"
   ]
  },
  {
   "cell_type": "code",
   "execution_count": 27,
   "metadata": {},
   "outputs": [
    {
     "data": {
      "text/plain": [
       "calc_infectious_potential_reduction (generic function with 2 methods)"
      ]
     },
     "execution_count": 27,
     "metadata": {},
     "output_type": "execute_result"
    }
   ],
   "source": [
    "function calc_infectious_potential_reduction(test_days::Array{Int64,1}, day_start::Int64,\n",
    "            VL_profile::Array{Float64,1}, VL_mag::Float64, test_pos_profile::Array{Float64,1},\n",
    "            will_isolate::Bool, symp_day::Int64, NCP::Float64, delay::Int64 = 0)\n",
    "    \n",
    "    test_daysh = test_days .+ day_start\n",
    "    #trim to test days within VL trajectory\n",
    "    valid_days = test_daysh[test_daysh .< length(VL_profile)]\n",
    "    #baseline infection profile\n",
    "    inf_profile0 = 2 * VL_profile / VL_mag\n",
    "    inf_profile0[inf_profile0 .< 0] .= 0\n",
    "    inf_profile = copy(inf_profile0)\n",
    "    testneg = true  #repeat tests until we get a positive (then assumed quarantined)\n",
    "    itest = 1\n",
    "    while testneg == true && itest <= length(valid_days)\n",
    "        d = valid_days[itest]\n",
    "        tp = (rand() < NCP*test_pos_profile[d])  #assume non compliance is independent each time\n",
    "        if tp && (d+delay <= length(inf_profile))\n",
    "            inf_profile[(d+delay):end] .= 0\n",
    "            testneg = false\n",
    "        end\n",
    "        itest += 1\n",
    "    end\n",
    "    if will_isolate   #symptomatic isolation alters both tested and original profile\n",
    "        inf_profile[(symp_day+1):end] .= 0\n",
    "        inf_profile0[(symp_day+1):end] .= 0\n",
    "    end\n",
    "    if sum(inf_profile0) > 0\n",
    "        p_infected = 1 - (sum(inf_profile) / sum(inf_profile0))   #reduction in infectious potential\n",
    "    else\n",
    "        p_infected = 0  #should be rare\n",
    "    end\n",
    "    \n",
    "    return p_infected\n",
    "end"
   ]
  },
  {
   "cell_type": "code",
   "execution_count": 28,
   "metadata": {},
   "outputs": [
    {
     "data": {
      "text/plain": [
       "50000"
      ]
     },
     "execution_count": 28,
     "metadata": {},
     "output_type": "execute_result"
    }
   ],
   "source": [
    "Ntrials = 50000"
   ]
  },
  {
   "cell_type": "markdown",
   "metadata": {},
   "source": [
    "Testing with no symptomatic self isolation -- LFDs\n"
   ]
  },
  {
   "cell_type": "code",
   "execution_count": 29,
   "metadata": {},
   "outputs": [],
   "source": [
    "Pisol = 0.0\n",
    "NewPisol = [0.25, 0.5,0.75,1.0]  #adherence to test result\n",
    "TestFreq = 2:2:14\n",
    "p_reduction = zeros(length(NewPisol),length(TestFreq),Ntrials)\n",
    "\n",
    "for (j,p) in enumerate(NewPisol)\n",
    "    for (n,f) in enumerate(TestFreq)\n",
    "        sim = init_VL_and_infectiousness(Ntrials, Pisol)\n",
    "        testing_params = Dict(\"protocol\"=>LFD_mass_protocol,\"tperiod\"=>f,\n",
    "                              \"new_comply_prob\"=>p)\n",
    "        init_testing!(sim, testing_params, 1, 50)\n",
    "        test_days = collect(1:f:50)\n",
    "        #work out probability of avoiding infection for each case\n",
    "        for m in 1:Ntrials\n",
    "            day_start = rand(0:(f-1))   \n",
    "            p_reduction[j,n,m] = calc_infectious_potential_reduction(test_days, day_start,\n",
    "                       sim[\"VL_profiles\"][m], sim[\"VL_mag\"][m], \n",
    "                       sim[\"test_pos_profiles\"][m], sim[\"will_isolate\"][m], \n",
    "                       sim[\"symp_day\"][m], p)\n",
    "        end\n",
    "    end\n",
    "end\n",
    "dftest_noisol = DataFrame([Float64,Float64,Int64,Float64],[:TestFreq,:NCP,:Iter,:p_inf],length(p_reduction))\n",
    "n = 1\n",
    "for i in 1:length(TestFreq)\n",
    "    for j in 1:length(NewPisol)\n",
    "        dftest_noisol[\"TestFreq\"][n:(n+Ntrials-1)] .= TestFreq[i]\n",
    "        dftest_noisol[\"NCP\"][n:(n+Ntrials-1)] .= NewPisol[j]\n",
    "        dftest_noisol[\"Iter\"][n:(n+Ntrials-1)] = collect(1:Ntrials)\n",
    "        dftest_noisol[\"p_inf\"][n:(n+Ntrials-1)] .= p_reduction[j,i,:]\n",
    "        n += Ntrials\n",
    "    end\n",
    "end"
   ]
  },
  {
   "cell_type": "code",
   "execution_count": 58,
   "metadata": {},
   "outputs": [],
   "source": [
    "colors = Array{RGBA{Float64}}(undef,length(p_reduction))\n",
    "barcolor=[RGBA(0.1, 0.4, 1.0, 0.25), RGBA(0.1, 0.4, 1.0, 0.5),\n",
    "          RGBA(0.1, 0.4, 1.0, 0.75), RGBA(0.1, 0.4, 1.0, 1.0)]\n",
    "i = 1\n",
    "for ncp in NewPisol\n",
    "    colors[dftest_noisol[\"NCP\"] .== ncp] .= barcolor[i]\n",
    "    i += 1\n",
    "end\n",
    "\n",
    "gr(size=(800,300))\n",
    "p = @df dftest_noisol StatsPlots.groupedboxplot(:TestFreq,:p_inf,group=:NCP,ylim=(-0.01,1.01),\n",
    "         outliers=false, xlabel=\"Days between tests\",\n",
    "         ylabel=\"Reduction in infection potential (p)\", \n",
    "         color = colors,\n",
    "         xticks=2:2:14,yticks=0:0.1:1.0,margin=5Plots.mm)\n",
    "savefig(p,\"compliance_effect_Pisol0_domcare.png\")"
   ]
  },
  {
   "cell_type": "code",
   "execution_count": null,
   "metadata": {},
   "outputs": [],
   "source": [
    "#lfd_testing -- with isolation\n",
    "#pcr_testing -- with delay\n",
    "Pisol = 0.0\n",
    "TestFreq = 2:2:14\n",
    "TestTypes = [\"LFD\",\"PCR - 0 day delay\",\"PCR - 1 day delay\",\"PCR - 2 day delay\"]\n",
    "p_reduction = zeros(length(TestTypes),length(TestFreq),Ntrials)\n",
    "VLs = zeros(length(TestFreq),Ntrials)\n",
    "for (n,f) in enumerate(TestFreq)\n",
    "    simLFD = sim = init_VL_and_infectiousness(Ntrials, Pisol)\n",
    "    testing_paramsLFD = Dict(\"protocol\"=>LFD_mass_protocol,\"tperiod\"=>f,\n",
    "                              \"new_comply_prob\"=>1.0)\n",
    "    simPCR = copy(simLFD)  #do for same individuals\n",
    "    \n",
    "    init_testing!(simLFD, testing_paramsLFD, 1, 50)\n",
    "    testing_paramsPCR = Dict(\"protocol\"=>PCR_mass_protocol,\"tperiod\"=>f,\n",
    "                          \"new_comply_prob\"=>1.0)\n",
    "    init_testing!(simPCR, testing_paramsPCR, 1, 50)\n",
    "    test_days = collect(1:f:50)\n",
    "    \n",
    "    #work out probability of avoiding infection for each case\n",
    "    for m in 1:Ntrials\n",
    "        day_start = rand(0:(f-1))\n",
    "        p_reduction[1,n,m] = calc_infectious_potential_reduction(test_days, day_start,\n",
    "                       simLFD[\"VL_profiles\"][m], simLFD[\"VL_mag\"][m], \n",
    "                       simLFD[\"test_pos_profiles\"][m], simLFD[\"will_isolate\"][m], \n",
    "                       simLFD[\"symp_day\"][m], 1.0)\n",
    "        p_reduction[2,n,m] = calc_infectious_potential_reduction(test_days, day_start,\n",
    "                       simPCR[\"VL_profiles\"][m], simPCR[\"VL_mag\"][m], \n",
    "                       simPCR[\"test_pos_profiles\"][m], simPCR[\"will_isolate\"][m], \n",
    "                       simPCR[\"symp_day\"][m], 1.0, 0)\n",
    "        p_reduction[3,n,m] = calc_infectious_potential_reduction(test_days, day_start,\n",
    "                       simPCR[\"VL_profiles\"][m], simPCR[\"VL_mag\"][m], \n",
    "                       simPCR[\"test_pos_profiles\"][m], simPCR[\"will_isolate\"][m], \n",
    "                       simPCR[\"symp_day\"][m], 1.0, 1)\n",
    "        p_reduction[4,n,m] = calc_infectious_potential_reduction(test_days, day_start,\n",
    "                       simPCR[\"VL_profiles\"][m], simPCR[\"VL_mag\"][m], \n",
    "                       simPCR[\"test_pos_profiles\"][m], simPCR[\"will_isolate\"][m], \n",
    "                       simPCR[\"symp_day\"][m], 1.0, 2)\n",
    "        VLs[n,m] = simLFD[\"VL_mag\"][m]\n",
    "    end\n",
    "end\n",
    "dftest_noisol_LP = DataFrame([Float64,String,Int64,Float64,Float64],[:TestFreq,:TestType,:Iter,:p_inf,:peakVL],\n",
    "              length(p_reduction))\n",
    "\n",
    "n = 1\n",
    "for j in 1:length(TestTypes)\n",
    "    for i in 1:length(TestFreq)\n",
    "        dftest_noisol_LP[\"TestFreq\"][n:(n+Ntrials-1)] .= TestFreq[i]\n",
    "        dftest_noisol_LP[\"TestType\"][n:(n+Ntrials-1)] .= TestTypes[j]\n",
    "        dftest_noisol_LP[\"Iter\"][n:(n+Ntrials-1)] .= collect(1:Ntrials)\n",
    "        dftest_noisol_LP[\"p_inf\"][n:(n+Ntrials-1)] .= p_reduction[j,i,:]\n",
    "        dftest_noisol_LP[\"peakVL\"][n:(n+Ntrials-1)] .= VLs[i,:]\n",
    "        n += Ntrials\n",
    "    end\n",
    "end"
   ]
  },
  {
   "cell_type": "code",
   "execution_count": 56,
   "metadata": {},
   "outputs": [],
   "source": [
    "colors = Array{RGBA{Float64}}(undef,length(p_reduction))\n",
    "barcolor=[RGBA(0.1, 0.4, 1.0, 1.0), RGBA(1.0, 0.55, 0.0, 1.0), \n",
    "         RGBA(1.0, 0.55, 0.0, 0.6), RGBA(1.0, 0.55, 0.0, 0.2)]\n",
    "i = 1\n",
    "for tt in TestTypes\n",
    "    colors[dftest_noisol_LP[\"TestType\"] .== tt] .= barcolor[i]\n",
    "    i += 1\n",
    "end\n",
    "\n",
    "gr(size=(800,300))\n",
    "plot = @df dftest_noisol_LP StatsPlots.groupedboxplot(:TestFreq,:p_inf,group=:TestType,ylim=(-0.01,1.01),\n",
    "         outliers=false, xlabel=\"Days between tests\",\n",
    "         ylabel=\"Reduction in infection potential (p)\",\n",
    "         color = colors,\n",
    "         xticks=2:2:14,yticks=0:0.1:1.0, margin=5Plots.mm)\n",
    "savefig(plot,\"test_effect_Pisol0_domcare.png\")"
   ]
  },
  {
   "cell_type": "code",
   "execution_count": 33,
   "metadata": {},
   "outputs": [],
   "source": [
    "#lfd_testing -- with isolation\n",
    "#pcr_testing -- with delay\n",
    "Pisol = 1.0\n",
    "TestFreq = 2:2:14\n",
    "TestTypes = [\"LFD\",\"PCR - 0 day delay\",\"PCR - 1 day delay\",\"PCR - 2 day delay\"]\n",
    "p_reduction = zeros(length(TestTypes),length(TestFreq),Ntrials)\n",
    "VLs = zeros(length(TestFreq),Ntrials)\n",
    "for (n,f) in enumerate(TestFreq)\n",
    "    simLFD = sim = init_VL_and_infectiousness(Ntrials, Pisol)\n",
    "    testing_paramsLFD = Dict(\"protocol\"=>LFD_mass_protocol,\"tperiod\"=>f,\n",
    "                              \"new_comply_prob\"=>1.0)\n",
    "    simPCR = copy(simLFD)  #do for same individuals\n",
    "    \n",
    "    init_testing!(simLFD, testing_paramsLFD, 1, 50)\n",
    "    testing_paramsPCR = Dict(\"protocol\"=>PCR_mass_protocol,\"tperiod\"=>f,\n",
    "                          \"new_comply_prob\"=>1.0)\n",
    "    init_testing!(simPCR, testing_paramsPCR, 1, 50)\n",
    "    test_days = collect(1:f:50)\n",
    "    \n",
    "    #work out probability of avoiding infection for each case\n",
    "    for m in 1:Ntrials\n",
    "        day_start = rand(0:(f-1))\n",
    "        p_reduction[1,n,m] = calc_infectious_potential_reduction(test_days, day_start,\n",
    "                       simLFD[\"VL_profiles\"][m], simLFD[\"VL_mag\"][m], \n",
    "                       simLFD[\"test_pos_profiles\"][m], simLFD[\"will_isolate\"][m], \n",
    "                       simLFD[\"symp_day\"][m], 1.0)\n",
    "        p_reduction[2,n,m] = calc_infectious_potential_reduction(test_days, day_start,\n",
    "                       simPCR[\"VL_profiles\"][m], simPCR[\"VL_mag\"][m], \n",
    "                       simPCR[\"test_pos_profiles\"][m], simPCR[\"will_isolate\"][m], \n",
    "                       simPCR[\"symp_day\"][m], 1.0, 0)\n",
    "        p_reduction[3,n,m] = calc_infectious_potential_reduction(test_days, day_start,\n",
    "                       simPCR[\"VL_profiles\"][m], simPCR[\"VL_mag\"][m], \n",
    "                       simPCR[\"test_pos_profiles\"][m], simPCR[\"will_isolate\"][m], \n",
    "                       simPCR[\"symp_day\"][m], 1.0, 1)\n",
    "        p_reduction[4,n,m] = calc_infectious_potential_reduction(test_days, day_start,\n",
    "                       simPCR[\"VL_profiles\"][m], simPCR[\"VL_mag\"][m], \n",
    "                       simPCR[\"test_pos_profiles\"][m], simPCR[\"will_isolate\"][m], \n",
    "                       simPCR[\"symp_day\"][m], 1.0, 2)\n",
    "        VLs[n,m] = simLFD[\"VL_mag\"][m]\n",
    "    end\n",
    "end\n",
    "dftest_isol = DataFrame([Float64,String,Int64,Float64,Float64],[:TestFreq,:TestType,:Iter,:p_inf,:peakVL],\n",
    "              length(p_reduction))\n",
    "\n",
    "n = 1\n",
    "for j in 1:length(TestTypes)\n",
    "    for i in 1:length(TestFreq)\n",
    "        dftest_isol[\"TestFreq\"][n:(n+Ntrials-1)] .= TestFreq[i]\n",
    "        dftest_isol[\"TestType\"][n:(n+Ntrials-1)] .= TestTypes[j]\n",
    "        dftest_isol[\"Iter\"][n:(n+Ntrials-1)] .= collect(1:Ntrials)\n",
    "        dftest_isol[\"p_inf\"][n:(n+Ntrials-1)] .= p_reduction[j,i,:]\n",
    "        dftest_isol[\"peakVL\"][n:(n+Ntrials-1)] .= VLs[i,:]\n",
    "        n += Ntrials\n",
    "    end\n",
    "end"
   ]
  },
  {
   "cell_type": "code",
   "execution_count": 60,
   "metadata": {},
   "outputs": [],
   "source": [
    "colors = Array{RGBA{Float64}}(undef,length(p_reduction))\n",
    "barcolor=[RGBA(0.1, 0.4, 1.0, 1.0), RGBA(1.0, 0.55, 0.0, 1.0), \n",
    "         RGBA(1.0, 0.55, 0.0, 0.6), RGBA(1.0, 0.55, 0.0, 0.2)]\n",
    "i = 1\n",
    "for tt in TestTypes\n",
    "    colors[dftest_isol[\"TestType\"] .== tt] .= barcolor[i]\n",
    "    i += 1\n",
    "end\n",
    "\n",
    "gr(size=(800,300))\n",
    "plot = @df dftest_isol StatsPlots.groupedboxplot(:TestFreq,:p_inf,group=:TestType,ylim=(-0.01,1.01),\n",
    "         outliers=false, xlabel=\"Days between tests\",\n",
    "         ylabel=\"Reduction in infection potential (p)\",\n",
    "         color = colors,\n",
    "         xticks=2:2:14,yticks=0:0.1:1.0, margin=5Plots.mm)\n",
    "savefig(plot,\"test_effect_Pisol1_domcare.png\")"
   ]
  },
  {
   "cell_type": "code",
   "execution_count": 35,
   "metadata": {},
   "outputs": [
    {
     "data": {
      "text/latex": [
       "No documentation found.\n",
       "\n",
       "\\texttt{StatsPlots.groupedboxplot} is a \\texttt{Function}.\n",
       "\n",
       "\\begin{verbatim}\n",
       "# 1 method for generic function \"groupedboxplot\":\n",
       "[1] groupedboxplot(args...; kw...) in StatsPlots at /Users/carlwhitfield/.julia/packages/RecipesBase/92zOw/src/RecipesBase.jl:357\n",
       "\\end{verbatim}\n"
      ],
      "text/markdown": [
       "No documentation found.\n",
       "\n",
       "`StatsPlots.groupedboxplot` is a `Function`.\n",
       "\n",
       "```\n",
       "# 1 method for generic function \"groupedboxplot\":\n",
       "[1] groupedboxplot(args...; kw...) in StatsPlots at /Users/carlwhitfield/.julia/packages/RecipesBase/92zOw/src/RecipesBase.jl:357\n",
       "```\n"
      ],
      "text/plain": [
       "  No documentation found.\n",
       "\n",
       "  \u001b[36mStatsPlots.groupedboxplot\u001b[39m is a \u001b[36mFunction\u001b[39m.\n",
       "\n",
       "\u001b[36m  # 1 method for generic function \"groupedboxplot\":\u001b[39m\n",
       "\u001b[36m  [1] groupedboxplot(args...; kw...) in StatsPlots at /Users/carlwhitfield/.julia/packages/RecipesBase/92zOw/src/RecipesBase.jl:357\u001b[39m"
      ]
     },
     "execution_count": 35,
     "metadata": {},
     "output_type": "execute_result"
    }
   ],
   "source": []
  },
  {
   "cell_type": "code",
   "execution_count": 97,
   "metadata": {},
   "outputs": [],
   "source": [
    "gr(size=(1200,400))\n",
    "dftest_isol_LFD = dftest_isol[dftest_isol[\"TestType\"].==\"LFD\",:]\n",
    "dftest_isol_LFD\n",
    "dftest_isol_LFD[\"ViralLoad\"] = Array{String}(undef,nrow(dftest_isol_LFD))\n",
    "\n",
    "dftest_isol_LFD[dftest_isol_LFD[\"peakVL\"].<6,\"ViralLoad\"] .= \"VL low (<6)\"\n",
    "dftest_isol_LFD[(dftest_isol_LFD[\"peakVL\"].>6) .* (dftest_isol_LFD[\"peakVL\"].<9) ,\"ViralLoad\"] .= \"VL med (6-9)\"\n",
    "dftest_isol_LFD[dftest_isol_LFD[\"peakVL\"].>9,\"ViralLoad\"] .= \"VL upp (>9)\"\n",
    "plot = @df dftest_isol_LFD StatsPlots.groupedboxplot(:TestFreq,:p_inf,group=:ViralLoad,ylim=(-0.01,1.01),\n",
    "         outliers=false, xlabel=\"Days between tests\",\n",
    "         ylabel=\"Reduction in infection potential (p)\",\n",
    "         xticks=1:14,yticks=0:0.1:1.0, margin=5mm)\n",
    "         savefig(plot,\"test_effect_Pisol1_domcare_VLdep.png\")"
   ]
  },
  {
   "cell_type": "code",
   "execution_count": 96,
   "metadata": {},
   "outputs": [],
   "source": []
  },
  {
   "cell_type": "code",
   "execution_count": 7,
   "metadata": {},
   "outputs": [],
   "source": [
    "#no_testing\n",
    "Pisol = 0:0.1:1.0\n",
    "r_infected = zeros(length(Pisol),Ntrials)\n",
    "  #2 hours per contact\n",
    "for (j,p) in enumerate(Pisol)\n",
    "    sim = init_sim(Ntrials, p)\n",
    "    #work out probability of avoiding infection for each case\n",
    "    for n in 1:Ntrials\n",
    "        inf_profile0 = sim[\"infection_profiles\"][n][1:sim[\"symp_day\"][n]]\n",
    "        r_infected[j,n] = sum(inf_profile0)\n",
    "        if !sim[\"will_isolate\"][n]\n",
    "            inf_profile1= sim[\"infection_profiles\"][n][(sim[\"symp_day\"][n]+1):end]\n",
    "            r_infected[j,n] += sum(inf_profile1)\n",
    "        end\n",
    "    \n",
    "    end\n",
    "end\n",
    "\n",
    "dfnotest = DataFrame([Float64,Int64,Float64],[:PIsol,:Iter,:R_infected],length(r_infected))\n",
    "n = 1\n",
    "for j in 1:length(Pisol)\n",
    "    dfnotest[\"PIsol\"][n:(n+Ntrials-1)] .= Pisol[j]\n",
    "    dfnotest[\"Iter\"][n:(n+Ntrials-1)] = collect(1:Ntrials)\n",
    "    dfnotest[\"R_infected\"][n:(n+Ntrials-1)] .= r_infected[j,:]\n",
    "    n += Ntrials\n",
    "end"
   ]
  },
  {
   "cell_type": "code",
   "execution_count": 97,
   "metadata": {},
   "outputs": [],
   "source": [
    "p = @df dfnotest StatsPlots.boxplot(string.(:PIsol),:R_infected,ylim=(0,14),\n",
    "    outliers=false,xlabel=(\"Symptom Isolation Probability\"),ylabel=\"Total Infectious Days\")\n",
    "savefig(p,\"notest_domcare.png\")"
   ]
  },
  {
   "cell_type": "code",
   "execution_count": 8,
   "metadata": {},
   "outputs": [
    {
     "ename": "LoadError",
     "evalue": "\u001b[91mUndefVarError: p not defined\u001b[39m",
     "output_type": "error",
     "traceback": [
      "\u001b[91mUndefVarError: p not defined\u001b[39m",
      "",
      "Stacktrace:",
      " [1] top-level scope at ./In[8]:25",
      " [2] include_string(::Function, ::Module, ::String, ::String) at ./loading.jl:1091"
     ]
    }
   ],
   "source": [
    "#lfd_testing\n",
    "Pisol = 1.0\n",
    "TestFreq = 1:14\n",
    "r_infected_LFD = zeros(length(TestFreq),Ntrials)\n",
    "#2 hours per contact\n",
    "for (n,f) in enumerate(TestFreq)\n",
    "    sim = init_sim(Ntrials, Pisol)\n",
    "    testing_params = Dict(\"protocol\"=>LFD_mass_protocol,\"tperiod\"=>f,\n",
    "                          \"new_comply_prob\"=>0.0)\n",
    "    init_testing!(sim, testing_params, 1, 50)\n",
    "    test_days = 1:f:50\n",
    "    #work out probability of avoiding infection for each case\n",
    "    for m in 1:Ntrials\n",
    "        day_start = rand(0:(f-1))\n",
    "        test_daysh = test_days .+ day_start\n",
    "        valid_days = test_daysh[test_daysh .< length(sim[\"infection_profiles\"][m])]\n",
    "        inf_profile0 = copy(sim[\"infection_profiles\"][m])\n",
    "        if sim[\"will_isolate_with_test\"][m]\n",
    "            for d in valid_days\n",
    "                inf_profile0[d:end] .= inf_profile0[d:end] .* (1.0 - sim[\"test_pos_profiles\"][m][d])\n",
    "            end\n",
    "        end\n",
    "        if sim[\"will_isolate\"][m]\n",
    "            inf_profile0[(sim[\"symp_day\"][m]+1):end] .= 0\n",
    "        end\n",
    "        r_infected_LFD[n,m] = sum(inf_profile0)\n",
    "    end\n",
    "end\n",
    "\n",
    "dftestisol = DataFrame([Float64,Float64,Int64,Float64],[:TestFreq,:NCP,:Iter,:R_infected],length(r_infected_LFD))\n",
    "n = 1\n",
    "for i in 1:length(TestFreq)\n",
    "    dftestisol[\"TestFreq\"][n:(n+Ntrials-1)] .= TestFreq[i]\n",
    "    dftestisol[\"Iter\"][n:(n+Ntrials-1)] = collect(1:Ntrials)\n",
    "    dftestisol[\"R_infected\"][n:(n+Ntrials-1)] .= r_infected_LFD[i,:]\n",
    "    n += Ntrials\n",
    "end"
   ]
  },
  {
   "cell_type": "code",
   "execution_count": 6,
   "metadata": {},
   "outputs": [
    {
     "ename": "LoadError",
     "evalue": "\u001b[91mUndefVarError: dfnotest not defined\u001b[39m",
     "output_type": "error",
     "traceback": [
      "\u001b[91mUndefVarError: dfnotest not defined\u001b[39m",
      "",
      "Stacktrace:",
      " [1] top-level scope at In[6]:1",
      " [2] include_string(::Function, ::Module, ::String, ::String) at ./loading.jl:1091"
     ]
    }
   ],
   "source": [
    "dfh = dfnotest[dfnotest[\"PIsol\"] .== 1.0,:]\n",
    "\n",
    "p = Plots.plot(TestFreq,median(dfh[\"R_infected\"]).*ones(length(TestFreq)),style=:dash,label=\"No test median\")\n",
    "\n",
    "p = @df dftestisol StatsPlots.boxplot!(:TestFreq,:R_infected,ylim=(0,14),\n",
    "        outliers=false,label=\"LFD test\",xlabel=\"Days between tests\",\n",
    "        ylabel=\"Total Infectious Days\",xticks=1:14)\n",
    "savefig(p,\"test_effect_Pisol1_domcare.png\")"
   ]
  },
  {
   "cell_type": "code",
   "execution_count": 100,
   "metadata": {},
   "outputs": [],
   "source": [
    "#lfd_testing\n",
    "contact_rate = 3/7\n",
    "Pisol = 0.0\n",
    "NewPisol = [0.25,0.5,0.75,1.0]\n",
    "TestFreq = 1:14\n",
    "r_infected_LFD = zeros(length(NewPisol),length(TestFreq),Ntrials)\n",
    "#2 hours per contact\n",
    "for (j,p) in enumerate(NewPisol)\n",
    "    for (n,f) in enumerate(TestFreq)\n",
    "        sim = init_sim(Ntrials, Pisol)\n",
    "        testing_params = Dict(\"protocol\"=>LFD_mass_protocol,\"tperiod\"=>f,\n",
    "                              \"new_comply_prob\"=>p)\n",
    "        init_testing!(sim, testing_params, 1, 50)\n",
    "        test_days = 1:f:50\n",
    "        #work out probability of avoiding infection for each case\n",
    "        for m in 1:Ntrials\n",
    "            day_start = rand(0:(f-1))\n",
    "            test_daysh = test_days .+ day_start\n",
    "            valid_days = test_daysh[test_daysh .< length(sim[\"infection_profiles\"][m])]\n",
    "            inf_profile0 = copy(sim[\"infection_profiles\"][m])\n",
    "            if sim[\"will_isolate_with_test\"][m]\n",
    "                for d in valid_days\n",
    "                    inf_profile0[d:end] .= inf_profile0[d:end] .* (1.0 - sim[\"test_pos_profiles\"][m][d])\n",
    "                end\n",
    "            end\n",
    "            if sim[\"will_isolate\"][m]\n",
    "                inf_profile0[(sim[\"symp_day\"][m]+1):end] .= 0\n",
    "            end\n",
    "            r_infected_LFD[j,n,m] = sum(inf_profile0)\n",
    "        end\n",
    "    end\n",
    "end\n",
    "dftest_noisol = DataFrame([Float64,Float64,Int64,Float64],[:TestFreq,:NCP,:Iter,:R_infected],length(r_infected_LFD))\n",
    "n = 1\n",
    "for i in 1:length(TestFreq)\n",
    "    for j in 1:length(NewPisol)\n",
    "        dftest_noisol[\"TestFreq\"][n:(n+Ntrials-1)] .= TestFreq[i]\n",
    "        dftest_noisol[\"NCP\"][n:(n+Ntrials-1)] .= NewPisol[j]\n",
    "        dftest_noisol[\"Iter\"][n:(n+Ntrials-1)] = collect(1:Ntrials)\n",
    "        dftest_noisol[\"R_infected\"][n:(n+Ntrials-1)] .= r_infected_LFD[j,i,:]\n",
    "        n += Ntrials\n",
    "    end\n",
    "end"
   ]
  },
  {
   "cell_type": "code",
   "execution_count": 101,
   "metadata": {},
   "outputs": [],
   "source": [
    "dfh = dfnotest[dfnotest[\"PIsol\"] .== 0.0,:]\n",
    "Plots.plot(TestFreq,median(dfh[\"R_infected\"]).*ones(length(TestFreq)),style=:dash,label=\"No test median\")\n",
    "p = @df dftest_noisol StatsPlots.groupedboxplot!(:TestFreq,:R_infected,group=:NCP,ylim=(0,14),\n",
    "         outliers=false, xlabel=\"Days between tests\",ylabel=\"Total Infectious Days\",\n",
    "        xticks=1:14)\n",
    "#savefig(p,\"test_effect_Pisol0_domcare.png\")"
   ]
  },
  {
   "cell_type": "code",
   "execution_count": null,
   "metadata": {},
   "outputs": [],
   "source": []
  },
  {
   "cell_type": "code",
   "execution_count": 110,
   "metadata": {},
   "outputs": [],
   "source": []
  },
  {
   "cell_type": "code",
   "execution_count": 111,
   "metadata": {},
   "outputs": [],
   "source": []
  },
  {
   "cell_type": "code",
   "execution_count": 66,
   "metadata": {},
   "outputs": [
    {
     "ename": "LoadError",
     "evalue": "\u001b[91mMethodError: no method matching -(::Float64, ::Array{Int64,1})\u001b[39m\n\u001b[91mFor element-wise subtraction, use broadcasting with dot syntax: scalar .- array\u001b[39m\n\u001b[91m\u001b[0mClosest candidates are:\u001b[39m\n\u001b[91m\u001b[0m  -(::Float64, \u001b[91m::Float64\u001b[39m) at float.jl:403\u001b[39m\n\u001b[91m\u001b[0m  -(::Float64) at float.jl:393\u001b[39m\n\u001b[91m\u001b[0m  -(::Real, \u001b[91m::Complex{Bool}\u001b[39m) at complex.jl:302\u001b[39m\n\u001b[91m\u001b[0m  ...\u001b[39m",
     "output_type": "error",
     "traceback": [
      "\u001b[91mMethodError: no method matching -(::Float64, ::Array{Int64,1})\u001b[39m\n\u001b[91mFor element-wise subtraction, use broadcasting with dot syntax: scalar .- array\u001b[39m\n\u001b[91m\u001b[0mClosest candidates are:\u001b[39m\n\u001b[91m\u001b[0m  -(::Float64, \u001b[91m::Float64\u001b[39m) at float.jl:403\u001b[39m\n\u001b[91m\u001b[0m  -(::Float64) at float.jl:393\u001b[39m\n\u001b[91m\u001b[0m  -(::Real, \u001b[91m::Complex{Bool}\u001b[39m) at complex.jl:302\u001b[39m\n\u001b[91m\u001b[0m  ...\u001b[39m",
      "",
      "Stacktrace:",
      " [1] error_coords(::Array{Tuple{Array{Int64,1},Array{Int64,1}},1}, ::Array{Float64,1}, ::Array{Float64,1}) at /Users/carlwhitfield/.julia/packages/Plots/SjqWU/src/recipes.jl:1121",
      " [2] macro expansion at /Users/carlwhitfield/.julia/packages/Plots/SjqWU/src/recipes.jl:1159 [inlined]",
      " [3] apply_recipe(::AbstractDict{Symbol,Any}, ::Type{Val{:yerror}}, ::Any, ::Any, ::Any) at /Users/carlwhitfield/.julia/packages/RecipesBase/92zOw/src/RecipesBase.jl:282",
      " [4] _process_seriesrecipe(::Any, ::Any) at /Users/carlwhitfield/.julia/packages/RecipesPipeline/VEk89/src/series_recipe.jl:50",
      " [5] _process_seriesrecipes!(::Any, ::Any) at /Users/carlwhitfield/.julia/packages/RecipesPipeline/VEk89/src/series_recipe.jl:27",
      " [6] recipe_pipeline!(::Any, ::Any, ::Any) at /Users/carlwhitfield/.julia/packages/RecipesPipeline/VEk89/src/RecipesPipeline.jl:97",
      " [7] _plot!(::Plots.Plot, ::Any, ::Any) at /Users/carlwhitfield/.julia/packages/Plots/SjqWU/src/plot.jl:172",
      " [8] #plot#129 at /Users/carlwhitfield/.julia/packages/Plots/SjqWU/src/plot.jl:58 [inlined]",
      " [9] scatter(::Any, ::Vararg{Any,N} where N; kw::Any) at /Users/carlwhitfield/.julia/packages/RecipesBase/92zOw/src/RecipesBase.jl:403",
      " [10] top-level scope at In[66]:16",
      " [11] include_string(::Function, ::Module, ::String, ::String) at ./loading.jl:1091"
     ]
    }
   ],
   "source": []
  },
  {
   "cell_type": "code",
   "execution_count": null,
   "metadata": {},
   "outputs": [],
   "source": []
  }
 ],
 "metadata": {
  "kernelspec": {
   "display_name": "Julia 1.5.3",
   "language": "julia",
   "name": "julia-1.5"
  },
  "language_info": {
   "file_extension": ".jl",
   "mimetype": "application/julia",
   "name": "julia",
   "version": "1.5.3"
  }
 },
 "nbformat": 4,
 "nbformat_minor": 4
}
