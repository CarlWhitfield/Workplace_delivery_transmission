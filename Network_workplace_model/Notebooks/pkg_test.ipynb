{
 "cells": [
  {
   "cell_type": "code",
   "execution_count": 1,
   "metadata": {},
   "outputs": [
    {
     "data": {
      "text/plain": [
       "run_param_sweeps_pairs (generic function with 1 method)"
      ]
     },
     "execution_count": 1,
     "metadata": {},
     "output_type": "execute_result"
    }
   ],
   "source": [
    "include(\"network_transmission_workplace.jl\")"
   ]
  },
  {
   "cell_type": "code",
   "execution_count": 5,
   "metadata": {},
   "outputs": [
    {
     "name": "stdout",
     "output_type": "stream",
     "text": [
      "38 20 10\n",
      "0.029411764705882353"
     ]
    },
    {
     "data": {
      "text/plain": [
       "0.3"
      ]
     },
     "execution_count": 5,
     "metadata": {},
     "output_type": "execute_result"
    }
   ],
   "source": [
    "#work out number of staff and packages (parcel company)\n",
    "NWeeks= 52\n",
    "NPh = 3000\n",
    "OccPattern = repeat([0.87,1.0,1.0,0.98,0.91,0.55,0],NWeeks)\n",
    "NPvec = Int64.(round.(NPh*OccPattern))\n",
    "NDh = Int64(round(NPh/80))\n",
    "NLh = Int64(round(NPh/150))\n",
    "NOh = Int64(round(NPh/300))\n",
    "print(NDh,' ', NLh, ' ', NOh,'\\n')\n",
    "ContactsPerDay = 2\n",
    "pc = 2/(NDh+NLh+NOh)\n",
    "print(pc)\n",
    "#other params\n",
    "pasymp = 0.3"
   ]
  },
  {
   "cell_type": "code",
   "execution_count": 13,
   "metadata": {},
   "outputs": [
    {
     "data": {
      "text/plain": [
       "Dict{String,Float64} with 5 entries:\n",
       "  \"p_fomite_contr\" => 0.05\n",
       "  \"Dtime\"          => 0.125\n",
       "  \"p_fomite_trans\" => 0.05\n",
       "  \"PkgHlife\"       => 0.166667\n",
       "  \"Ltime\"          => 0.125"
      ]
     },
     "execution_count": 13,
     "metadata": {},
     "output_type": "execute_result"
    }
   ],
   "source": [
    "Params1 = Dict(\"ND\"=>NDh, \"NL\"=>NLh, \"NO\"=>NOh, \"p_contact\"=>pc, \"p_inf\"=>0.2,\n",
    "              \"Pasymp\"=>0.3, \"Pisol\"=>0.5, \"InfInit\"=>1, \"tD\"=>0.5, \"phi\"=>0.5,\n",
    "              \"p_friend_contact\"=>0.5)\n",
    "PkgParams1 = Dict(\"p_fomite_contr\"=>0.05, \"p_fomite_trans\"=>0.05,\n",
    "                       \"PkgHlife\"=>1/6, \"Dtime\"=>1/8, \"Ltime\"=>1/8)"
   ]
  },
  {
   "cell_type": "code",
   "execution_count": 15,
   "metadata": {},
   "outputs": [
    {
     "data": {
      "text/plain": [
       "Dict{String,AbstractArray{Int64,N} where N} with 9 entries:\n",
       "  \"Isolated\"                     => [0 0 … 0 0; 0 0 … 0 0; 0 0 … 0 0]\n",
       "  \"time\"                         => 0:44\n",
       "  \"Presenting\"                   => [0 0 … 1 0; 0 0 … 0 0; 0 0 … 0 0]\n",
       "  \"Asymptomatic\"                 => [0 0 … 0 0; 0 0 … 0 0; 0 0 … 0 0]\n",
       "  \"Exposed\"                      => [0 0 … 0 0; 0 0 … 0 0; 0 0 … 0 0]\n",
       "  \"Recovered\"                    => [0 0 … 5 6; 0 0 … 3 3; 0 0 … 3 3]\n",
       "  \"Susceptible\"                  => [38 38 … 32 32; 20 20 … 17 17; 10 10 … 7 7]\n",
       "  \"Infectious\"                   => [0 0 … 1 0; 0 0 … 0 0; 0 0 … 0 0]\n",
       "  \"PackagesInfectiousOnDelivery\" => [0, 0, 0, 0, 0, 0, 0, 1, 0, 1  …  0, 0, 0, …"
      ]
     },
     "execution_count": 15,
     "metadata": {},
     "output_type": "execute_result"
    }
   ],
   "source": [
    "test = run_outbreak_sim(Params1, OccPattern, PkgParams1, NPvec, 12.0, true)"
   ]
  },
  {
   "cell_type": "code",
   "execution_count": null,
   "metadata": {},
   "outputs": [],
   "source": []
  },
  {
   "cell_type": "code",
   "execution_count": null,
   "metadata": {},
   "outputs": [],
   "source": []
  },
  {
   "cell_type": "code",
   "execution_count": null,
   "metadata": {},
   "outputs": [],
   "source": []
  }
 ],
 "metadata": {
  "kernelspec": {
   "display_name": "Julia 1.5.3",
   "language": "julia",
   "name": "julia-1.5"
  },
  "language_info": {
   "file_extension": ".jl",
   "mimetype": "application/julia",
   "name": "julia",
   "version": "1.5.3"
  }
 },
 "nbformat": 4,
 "nbformat_minor": 4
}
