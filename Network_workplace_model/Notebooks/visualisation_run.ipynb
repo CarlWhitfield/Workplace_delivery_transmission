{
 "cells": [
  {
   "cell_type": "code",
   "execution_count": 1,
   "metadata": {},
   "outputs": [
    {
     "data": {
      "text/plain": [
       "run_sim (generic function with 1 method)"
      ]
     },
     "execution_count": 1,
     "metadata": {},
     "output_type": "execute_result"
    }
   ],
   "source": [
    "include(\"../src/network_transmission_workplace.jl\")"
   ]
  },
  {
   "cell_type": "code",
   "execution_count": 2,
   "metadata": {},
   "outputs": [
    {
     "name": "stdout",
     "output_type": "stream",
     "text": [
      "36 20 10\n",
      "0.030303030303030304"
     ]
    },
    {
     "data": {
      "text/plain": [
       "0.1"
      ]
     },
     "execution_count": 2,
     "metadata": {},
     "output_type": "execute_result"
    }
   ],
   "source": [
    "NWeeks= 12\n",
    "NPh = 3000\n",
    "OccPattern = repeat([0.87,1.0,1.0,0.98,0.91,0.55,0],NWeeks)\n",
    "NPvec = Int64.(round.(NPh*OccPattern))\n",
    "NDh = 2*Int64(round(0.5*NPh/85))\n",
    "NLh = 2*Int64(round(0.5*NPh/150))\n",
    "NOh = Int64(round(NPh/300))\n",
    "print(NDh,' ', NLh, ' ', NOh,'\\n')\n",
    "ContactsPerDay = 2\n",
    "pc = ContactsPerDay/(NDh+NLh+NOh)\n",
    "print(pc)\n",
    "#other params\n",
    "pasymp = 0.3\n",
    "PIsol = 0.5\n",
    "NCP = 0.5\n",
    "Delay = 0\n",
    "TestType = LFD_mass_protocol\n",
    "tD = 0.05\n",
    "phi = 0.1"
   ]
  },
  {
   "cell_type": "code",
   "execution_count": 3,
   "metadata": {},
   "outputs": [
    {
     "name": "stdout",
     "output_type": "stream",
     "text": [
      "2\n",
      "2\n",
      "1\n",
      "2\n",
      "2\n",
      "1\n",
      "4\n",
      "1\n",
      "1\n",
      "2\n",
      "1\n",
      "1\n",
      "6\n",
      "1\n",
      "1\n",
      "1\n",
      "2\n",
      "1\n",
      "2\n",
      "1\n",
      "2\n",
      "3\n",
      "2\n",
      "2\n",
      "1\n",
      "2\n",
      "1\n",
      "2\n",
      "1\n",
      "1\n",
      "2\n",
      "1\n",
      "4\n",
      "2\n",
      "2\n",
      "1\n",
      "1\n",
      "1\n",
      "2\n",
      "1\n",
      "1\n",
      "1\n",
      "3\n",
      "1\n",
      "1\n",
      "1\n",
      "2\n",
      "19\n"
     ]
    }
   ],
   "source": [
    "Params = Dict(\"ND\"=>NDh, \"NL\"=>NLh, \"NO\"=>NOh, \n",
    "                \"p_contact\"=>pc, \"Pasymp\"=>pasymp, \"Pisol\"=>PIsol, \n",
    "                \"InfInit\"=>0, \"tD\"=>tD, \"phi\"=>phi, \"p_friend_contact\"=>1.0,\n",
    "                \"SimType\"=>Outbreak_sim)\n",
    "TParams = Dict(\"new_comply_prob\"=>NCP, \"tperiod\"=>3, \"specificity\"=>0.99,\n",
    "                \"protocol\"=>LFD_mass_protocol, \"delay\"=>Delay, \"test_pause\"=>21)\n",
    "Pparams = Dict(\"p_fomite_contr\"=>0.0, \"p_fomite_trans\"=>0.0, \"Dtime\"=>1/6,\n",
    "                                 \"Ltime\"=>1/6, \"PkgHlife\"=>0.5)\n",
    "PairParams = Dict(\"is_driver_pairs\"=>true, \"is_loader_pairs\"=>true,\n",
    "                   \"fixed_driver_pairs\"=>true, \"fixed_loader_pairs\"=>true,\n",
    "                   \"is_window_open\"=>false, \"pair_isolation\"=>true)\n",
    "Ninf = 0\n",
    "resultsout = Dict()\n",
    "while Ninf < 10\n",
    "    resultsout = run_sim(Params, OccPattern, Pparams, NPvec; visualise=true,\n",
    "                        is_network=true, testing=true, is_pairs=true,\n",
    "                        TestParams=TParams, PairParams=PairParams)\n",
    "    Ninf = sum(resultsout[\"Recovered\"][:,end])\n",
    "    print(Ninf,'\\n')\n",
    "end"
   ]
  },
  {
   "cell_type": "code",
   "execution_count": 7,
   "metadata": {},
   "outputs": [],
   "source": [
    "Plots.plot(resultsout[\"time\"],transpose(sum(resultsout[\"Susceptible\"],dims=1)),label=\"Susceptible\",\n",
    "           color=:grey)\n",
    "Plots.plot!(resultsout[\"time\"],transpose(sum(resultsout[\"Infectious\"],dims=1)),label=\"Infectious\",\n",
    "            color=:red)\n",
    "Plots.plot!(resultsout[\"time\"],transpose(sum(resultsout[\"Isolated\"],dims=1)),label=\"Isolating\",\n",
    "            color=:purple)\n",
    "Plots.plot!(resultsout[\"time\"],transpose(sum(resultsout[\"Recovered\"],dims=1)),label=\"Recovered\",\n",
    "            xlabel=\"Days\", ylabel=\"Count\",color=:blue)\n",
    "Plots.savefig(\"outbreak_sim.png\")"
   ]
  },
  {
   "cell_type": "code",
   "execution_count": 5,
   "metadata": {},
   "outputs": [
    {
     "data": {
      "text/plain": [
       "Dict{Any,Any} with 33 entries:\n",
       "  \"Isolated\"                     => [0 0 … 6 6; 0 0 … 12 10; 0 0 … 0 0]\n",
       "  \"NewTestSympIsolators\"         => [0 0 … 1 0; 0 0 … 0 0; 0 0 … 0 0]\n",
       "  \"NewPartnerTruePosIsolators\"   => [0 0 … 3 0; 0 0 … 1 0; 0 0 … 0 0]\n",
       "  \"IsolatedDueToPartnerTruePos\"  => [0 0 … 3 3; 0 0 … 4 3; 0 0 … 0 0]\n",
       "  \"PairInfs\"                     => [0 0 … 0 0; 0 0 … 0 0; 0 0 … 0 0]\n",
       "  \"NewIsolators\"                 => [0 0 … 6 0; 0 0 … 2 0; 0 0 … 0 0]\n",
       "  \"CustomersInfectedByDrivers\"   => [0, 0, 0, 0, 0, 0, 0, 0, 0, 0  …  0, 0, 0, …\n",
       "  \"IsolatedDueToFalsePos\"        => [0 0 … 0 0; 0 0 … 2 2; 0 0 … 0 0]\n",
       "  \"IsolatedDueToSymptoms\"        => [0 0 … 30 30; 0 0 … 8 10; 0 0 … 10 10]\n",
       "  \"Asymptomatic\"                 => [0 0 … 1 3; 0 0 … 3 2; 0 0 … 0 0]\n",
       "  \"Susceptible\"                  => [36 36 … 13 13; 20 20 … 8 8; 10 10 … 3 3]\n",
       "  \"FomiteInfs\"                   => [0 0 … 0 0; 0 0 … 0 0; 0 0 … 0 0]\n",
       "  \"time\"                         => [1, 2, 3, 4, 5, 6, 7, 8, 9, 10  …  75, 76, …\n",
       "  \"ContactInfs\"                  => [0 0 … 0 0; 0 0 … 0 0; 0 0 … 0 0]\n",
       "  \"RoomInfs\"                     => [0 0 … 0 0; 0 0 … 0 0; 0 0 … 0 0]\n",
       "  \"ExternalIntroductions\"        => [0 0 … 0 0; 0 0 … 0 0; 0 0 … 0 0]\n",
       "  \"Exposed\"                      => [0 0 … 4 0; 0 0 … 0 0; 0 0 … 2 2]\n",
       "  \"IsolatedDueToPartnerFalsePos\" => [0 0 … 0 0; 0 0 … 2 2; 0 0 … 0 0]\n",
       "  \"IsolatedDueToTestSymp\"        => [0 0 … 1 1; 0 0 … 1 0; 0 0 … 0 0]\n",
       "  \"CustomerIntroductions\"        => [0 0 … 0 0; 0 0 … 0 0; 0 0 … 0 0]\n",
       "  \"NewSympIsolators\"             => [0 0 … 0 0; 0 0 … 0 0; 0 0 … 0 0]\n",
       "  \"PackagesInfectiousOnDelivery\" => [0, 0, 0, 0, 0, 0, 0, 0, 0, 0  …  0, 0, 0, …\n",
       "  \"Incidence\"                    => [0.005, 0.005, 0.005, 0.005, 0.005, 0.005, …\n",
       "  \"Presenting\"                   => [0 0 … 0 0; 0 0 … 0 0; 0 0 … 0 0]\n",
       "  \"NetworkInfs\"                  => [0 0 … 0 0; 0 0 … 0 0; 0 0 … 0 0]\n",
       "  ⋮                              => ⋮"
      ]
     },
     "execution_count": 5,
     "metadata": {},
     "output_type": "execute_result"
    }
   ],
   "source": [
    "Params = Dict(\"ND\"=>NDh, \"NL\"=>NLh, \"NO\"=>NOh, \n",
    "                \"p_contact\"=>pc, \"Pasymp\"=>pasymp, \"Pisol\"=>PIsol,\n",
    "                 \"tD\"=>tD, \"phi\"=>phi, \"p_friend_contact\"=>1.0,\n",
    "                \"SimType\"=>Scenario_sim)\n",
    "TParams = Dict(\"new_comply_prob\"=>NCP, \"tperiod\"=>3, \"specificity\"=>0.99,\n",
    "                \"protocol\"=>LFD_mass_protocol, \"delay\"=>Delay, \"test_pause\"=>21)\n",
    "Pparams = Dict(\"p_fomite_contr\"=>0.0, \"p_fomite_trans\"=>0.0, \"Dtime\"=>1/6,\n",
    "                                 \"Ltime\"=>1/6, \"PkgHlife\"=>0.5)\n",
    "PairParams = Dict(\"is_driver_pairs\"=>true, \"is_loader_pairs\"=>true,\n",
    "                   \"fixed_driver_pairs\"=>true, \"fixed_loader_pairs\"=>true,\n",
    "                   \"is_window_open\"=>false, \"pair_isolation\"=>true)\n",
    "Ninf = 0\n",
    "Inc = 0.005*ones(length(OccPattern))\n",
    "resultsout2 = run_sim(Params, OccPattern, Pparams, NPvec; visualise=true,\n",
    "                        is_network=true, testing=true, is_pairs=true,\n",
    "                        TestParams=TParams, PairParams=PairParams,\n",
    "                        Incidence = Inc, Prevalence = 7*Inc)"
   ]
  },
  {
   "cell_type": "code",
   "execution_count": 8,
   "metadata": {},
   "outputs": [],
   "source": [
    "Plots.plot(resultsout2[\"time\"],transpose(sum(resultsout2[\"Susceptible\"],dims=1)),label=\"Susceptible\",\n",
    "           color=:grey)\n",
    "Plots.plot!(resultsout2[\"time\"],transpose(sum(resultsout2[\"Infectious\"],dims=1)),label=\"Infectious\",\n",
    "            color=:red)\n",
    "Plots.plot!(resultsout2[\"time\"],transpose(sum(resultsout2[\"Isolated\"],dims=1)),label=\"Isolating\",\n",
    "            color=:purple)\n",
    "Plots.plot!(resultsout2[\"time\"],transpose(sum(resultsout2[\"Recovered\"],dims=1)),label=\"Recovered\",\n",
    "            xlabel=\"Days\", ylabel=\"Count\",color=:blue)\n",
    "Plots.savefig(\"scenario_sim.png\")"
   ]
  },
  {
   "cell_type": "code",
   "execution_count": null,
   "metadata": {},
   "outputs": [],
   "source": []
  },
  {
   "cell_type": "code",
   "execution_count": null,
   "metadata": {},
   "outputs": [],
   "source": []
  },
  {
   "cell_type": "code",
   "execution_count": null,
   "metadata": {},
   "outputs": [],
   "source": []
  },
  {
   "cell_type": "code",
   "execution_count": null,
   "metadata": {},
   "outputs": [],
   "source": []
  }
 ],
 "metadata": {
  "kernelspec": {
   "display_name": "Julia 1.5.3",
   "language": "julia",
   "name": "julia-1.5"
  },
  "language_info": {
   "file_extension": ".jl",
   "mimetype": "application/julia",
   "name": "julia",
   "version": "1.5.3"
  }
 },
 "nbformat": 4,
 "nbformat_minor": 4
}
