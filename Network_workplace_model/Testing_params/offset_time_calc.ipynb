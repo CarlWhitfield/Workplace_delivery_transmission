{
 "cells": [
  {
   "cell_type": "markdown",
   "metadata": {},
   "source": [
    "Generate onset time"
   ]
  },
  {
   "cell_type": "code",
   "execution_count": 3,
   "metadata": {},
   "outputs": [
    {
     "name": "stdout",
     "output_type": "stream",
     "text": [
      "4.857142857142858 2.6341555592265395\n",
      "3.2857142857142856 2.347382389307855\n",
      "1.1 1.5714285714285716 1.498298354528788\n"
     ]
    }
   ],
   "source": [
    "import numpy as np\n",
    "\n",
    "#suppose symp time dist is this (approx. Chris estimate)\n",
    "asymp = 3.4\n",
    "bsymp = 0.7\n",
    "ms = asymp/bsymp\n",
    "sds = np.sqrt(asymp/bsymp**2)\n",
    "print(ms,sds)\n",
    "\n",
    "#peak time is this (from Kissler)\n",
    "ap = 2.3\n",
    "bp = 0.7\n",
    "mp = 2.3/0.7\n",
    "sdp = np.sqrt(2.7/0.7**2)\n",
    "print(mp,sdp)\n",
    "\n",
    "#time to onset (if symptoms at peak) is \n",
    "ao = asymp - ap\n",
    "bo = bp\n",
    "mo = ao/bo\n",
    "sdo = np.sqrt(ao/bo**2)\n",
    "print(ao,mo,sdo)"
   ]
  },
  {
   "cell_type": "code",
   "execution_count": null,
   "metadata": {},
   "outputs": [],
   "source": []
  },
  {
   "cell_type": "code",
   "execution_count": null,
   "metadata": {},
   "outputs": [],
   "source": []
  }
 ],
 "metadata": {
  "kernelspec": {
   "display_name": "Python 3",
   "language": "python",
   "name": "python3"
  },
  "language_info": {
   "codemirror_mode": {
    "name": "ipython",
    "version": 3
   },
   "file_extension": ".py",
   "mimetype": "text/x-python",
   "name": "python",
   "nbconvert_exporter": "python",
   "pygments_lexer": "ipython3",
   "version": "3.7.6"
  }
 },
 "nbformat": 4,
 "nbformat_minor": 4
}
