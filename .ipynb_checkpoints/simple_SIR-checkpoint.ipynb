{
 "cells": [
  {
   "cell_type": "markdown",
   "metadata": {},
   "source": [
    "Simple SEIR model of workplace:\n",
    "\n",
    "Population 1 is drivers\n",
    "\n",
    "Population 2 is onsite staff"
   ]
  },
  {
   "cell_type": "code",
   "execution_count": 58,
   "metadata": {},
   "outputs": [],
   "source": [
    "import matplotlib.pyplot as plt\n",
    "import numpy as np\n",
    "\n",
    "\n",
    "def eigenvalues(nu,a,t1,N1):\n",
    "    J  = np.zeros((2,2))\n",
    "    t = np.array([t1,1])\n",
    "    N = np.array([N1,1-N1])\n",
    "    for i in np.arange(2):\n",
    "        for j in np.arange(2):\n",
    "            J[i,j] = nu*t[i]*t[j]*N[i] - a*(i==j)\n",
    "    return np.linalg.eig(J)\n",
    "\n",
    "def Reigenvalues(nu,a,t1,N1):\n",
    "    R = np.zeros((2,2))\n",
    "    t = np.array([t1,1])\n",
    "    N = np.array([N1,1-N1])\n",
    "    for i in np.arange(2):\n",
    "        for j in np.arange(2):\n",
    "            R[i,j] = nu*t[i]*t[j]*N[i]/a\n",
    "    return np.linalg.eig(R)\n",
    "\n",
    "def SIRsim(nu,a,t1,N1,dt=0.1,Nt=1000):\n",
    "    S = np.zeros((2,Nt+1))\n",
    "    I = np.zeros((2,Nt+1))\n",
    "    R = np.zeros((2,Nt+1))\n",
    "    J = np.zeros((4,4))\n",
    "    #need to work out step equations, as it is non-linear\n",
    "    S[0,0] = N1 - 1E-3\n",
    "    S[1,0] = 1-N1 - 1E-3\n",
    "    I[0,0] = 1E-3\n",
    "    I[1,0] = 1E-3\n",
    "    Xold = np.append(S[:,0],I[:,0])\n",
    "    for n in np.arange(1,Nt+1):\n",
    "        Xprev = np.append(S[:,n-1],I[:,n-1])\n",
    "        Xnew = Xold.copy()\n",
    "        f = model_function(Xprev,Xnew,nu,a,t1,dt)\n",
    "        while np.linalg.norm(f)/dt > 1E-12:\n",
    "            J = fill_Jacobian(Xprev,Xnew,nu,a,t1,dt)\n",
    "            Xnew = Xold - np.linalg.solve(J,f)\n",
    "            f = model_function(Xprev,Xnew,nu,a,t1,dt)\n",
    "            Xold = Xnew.copy()\n",
    "        S[:,n] = Xnew[:2]\n",
    "        I[:,n] = Xnew[2:]\n",
    "        R[:,n] = S[:,0] - S[:,n] - I[:,n]\n",
    "    \n",
    "    return S,I,R\n",
    "\n",
    "def model_function(Xold,Xnew,nu,a,t1,dt):\n",
    "    f = np.zeros(4)\n",
    "    t = np.array([t1,1])\n",
    "    beta = nu*np.outer(t,t)\n",
    "    f[:2] = Xnew[:2] - Xold[:2] + dt*Xnew[:2]*np.dot(beta,Xnew[2:])\n",
    "    f[2:] = Xnew[2:] - Xold[2:] - dt*Xnew[:2]*np.dot(beta,Xnew[2:]) + a*Xnew[2:]\n",
    "    \n",
    "    return f\n",
    "\n",
    "def fill_Jacobian(Xold,Xnew,nu,a,t1,dt):\n",
    "    J = np.zeros((4,4))\n",
    "    t = np.array([t1,1])\n",
    "    beta = nu*np.outer(t,t)\n",
    "    for i in np.arange(2):\n",
    "        J[i,i] = 1 + dt*np.dot(beta[i,:],Xnew[2:])\n",
    "        J[2+i,i] = -dt*np.dot(beta[i,:],Xnew[2:])\n",
    "        J[2+i,2+i] = 1 + a\n",
    "        for j in np.arange(2):\n",
    "            J[i,2+j] += dt*Xnew[i]*beta[i,j]\n",
    "            J[2+i,2+j] -= dt*Xnew[i]*beta[i,j]\n",
    "    return J"
   ]
  },
  {
   "cell_type": "code",
   "execution_count": 28,
   "metadata": {},
   "outputs": [
    {
     "data": {
      "text/plain": [
       "[<matplotlib.lines.Line2D at 0x7fce17292e50>]"
      ]
     },
     "execution_count": 28,
     "metadata": {},
     "output_type": "execute_result"
    },
    {
     "data": {
      "image/png": "[encoded data removed]",
      "text/plain": [
       "<Figure size 864x288 with 2 Axes>"
      ]
     },
     "metadata": {
      "needs_background": "light"
     },
     "output_type": "display_data"
    }
   ],
   "source": [
    "A = 0.5\n",
    "N1 = 5.0/6.0\n",
    "gamma = 1/10\n",
    "sigma = 1/3\n",
    "t1 = 0.05\n",
    "a = (1-A)*sigma + A*gamma\n",
    "N = 200\n",
    "eig = np.zeros(N)\n",
    "evec = np.zeros((N,2))\n",
    "Reig = np.zeros(N)\n",
    "Revec = np.zeros((N,2))\n",
    "i = 0\n",
    "for nu in np.arange(N)*0.01:\n",
    "    eh, evech = eigenvalues(nu,a,t1,N1)\n",
    "    eig[i] = np.max(eh)\n",
    "    evec[i,:] = evech[np.argsort(eh)[0]]\n",
    "    Reh, Revech = Reigenvalues(nu,a,t1,N1)\n",
    "    Reig[i] = np.max(Reh)\n",
    "    Revec[i,:] = evech[np.argsort(Reh)[0]]\n",
    "    i += 1\n",
    "fig, ax = plt.subplots(1,2,figsize=(12,4))\n",
    "ax[0].plot(np.arange(N)*0.01,eig)\n",
    "ax[0].plot(np.arange(N)*0.01,Reig)\n",
    "ax[1].plot(np.arange(N)*0.01,np.abs(evec[:,0]))\n",
    "ax[1].plot(np.arange(N)*0.01,np.abs(evec[:,1]))"
   ]
  },
  {
   "cell_type": "code",
   "execution_count": 50,
   "metadata": {},
   "outputs": [],
   "source": [
    "Nt = 100\n",
    "N1 = 5/6\n",
    "nu = 40\n",
    "gamma = 1/10\n",
    "sigma = 1/4\n",
    "t1 = 0.05\n",
    "a = (1-A)*sigma + A*gamma"
   ]
  },
  {
   "cell_type": "code",
   "execution_count": 51,
   "metadata": {},
   "outputs": [],
   "source": [
    "S,I,R = SIRsim(nu,a,t1,N1)"
   ]
  },
  {
   "cell_type": "code",
   "execution_count": 60,
   "metadata": {},
   "outputs": [
    {
     "data": {
      "text/plain": [
       "[<matplotlib.lines.Line2D at 0x7fce18020390>]"
      ]
     },
     "execution_count": 60,
     "metadata": {},
     "output_type": "execute_result"
    },
    {
     "data": {
      "image/png": "[encoded data removed]",
      "text/plain": [
       "<Figure size 432x288 with 1 Axes>"
      ]
     },
     "metadata": {
      "needs_background": "light"
     },
     "output_type": "display_data"
    }
   ],
   "source": [
    "plt.plot(np.transpose(S)[:,0],color='C0')\n",
    "plt.plot(np.transpose(S)[:,1],color='C1')\n",
    "plt.plot(np.transpose(I)[:,0],'--',color='C0')\n",
    "plt.plot(np.transpose(I)[:,1],'--',color='C1')\n",
    "plt.plot(np.transpose(R)[:,0],':',color='C0')\n",
    "plt.plot(np.transpose(R)[:,1],':',color='C1')"
   ]
  },
  {
   "cell_type": "code",
   "execution_count": null,
   "metadata": {},
   "outputs": [],
   "source": []
  }
 ],
 "metadata": {
  "kernelspec": {
   "display_name": "Python 3",
   "language": "python",
   "name": "python3"
  },
  "language_info": {
   "codemirror_mode": {
    "name": "ipython",
    "version": 3
   },
   "file_extension": ".py",
   "mimetype": "text/x-python",
   "name": "python",
   "nbconvert_exporter": "python",
   "pygments_lexer": "ipython3",
   "version": "3.7.6"
  }
 },
 "nbformat": 4,
 "nbformat_minor": 4
}
