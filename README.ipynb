{
 "cells": [
  {
   "cell_type": "code",
   "execution_count": null,
   "metadata": {},
   "outputs": [],
   "source": [
    "include(\"Network_workplace_model/src/param_sweeps.jl\")"
   ]
  },
  {
   "cell_type": "markdown",
   "metadata": {},
   "source": [
    "# Overview\n",
    "\n",
    "This library accompanies the paper \"Modelling the impact of non-pharmaceutical interventions on workplace transmission of SARS-CoV-2 in the home-delivery sector\", currently available in preprint form here (final peer-reviewed version will be linked when published).\n",
    "\n",
    "This julia-based model simulates the stochastic transmission of SARS-CoV-2 on a dynamic contact network representing staff in a delivery/logistics warehouse. The model uses viral load trajectories from data in the literature, as well as test-sensitivity data, to simulate the impact of various non-pharmaceutical interventions including regular PCR and lateral-flow testing. \n",
    "\n",
    "Below is a brief guide to how the model works, the underlying code is designed to be easily repurposed for simulating outbreaks in other workplaces and networks of moderate size (< 1000 nodes)."
   ]
  },
  {
   "cell_type": "markdown",
   "metadata": {},
   "source": [
    "# Pre-requisites\n",
    "\n",
    "This library also requires files in the Github repository <a href=\"https://github.com/CarlWhitfield/Viral_load_testing_COV19_model\">Viral_load_testing_COV19_model</a>. Paths to this repository are defined relative to the currrent directory, which assume the two repositories be stored in the same directory. Therefore, for ease of setup we recommend downloading these two repositories into the same directory."
   ]
  },
  {
   "cell_type": "markdown",
   "metadata": {},
   "source": [
    "# Code structure\n",
    "\n",
    "The key files in this directory are organised hierarchically, as follows:\n",
    "\n",
    "## Base level: `src/transmission_model_framework.jl`\n",
    "\n",
    "This file calls `Viral_load_testing_COV19_model/src/viral_load_infectivity_testpos.jl` from the Github repository <a href=\"https://github.com/CarlWhitfield/Viral_load_testing_COV19_model\">Viral_load_testing_COV19_model</a>. Note that the path to this file in the include statement at the top of this file is relative, so may need to be altered.\n",
    "\n",
    "This file contains functions to run the generic contact and transmission model underlying the dynamics of the workplace model. This includes the following key functions:"
   ]
  },
  {
   "cell_type": "code",
   "execution_count": null,
   "metadata": {},
   "outputs": [],
   "source": [
    "@doc(init_transmission_model)"
   ]
  },
  {
   "cell_type": "code",
   "execution_count": null,
   "metadata": {},
   "outputs": [],
   "source": [
    "@doc(setup_transmission_model!)"
   ]
  },
  {
   "cell_type": "code",
   "execution_count": null,
   "metadata": {},
   "outputs": [],
   "source": [
    "@doc(get_infectivities)"
   ]
  },
  {
   "cell_type": "code",
   "execution_count": null,
   "metadata": {},
   "outputs": [],
   "source": [
    "@doc(get_network_infections)"
   ]
  },
  {
   "cell_type": "code",
   "execution_count": null,
   "metadata": {},
   "outputs": [],
   "source": [
    "@doc(do_infections_randomly!)"
   ]
  },
  {
   "cell_type": "code",
   "execution_count": null,
   "metadata": {},
   "outputs": [],
   "source": [
    "@doc(update_in_work!)"
   ]
  },
  {
   "cell_type": "code",
   "execution_count": null,
   "metadata": {},
   "outputs": [],
   "source": [
    "@doc(update_all_statuses!)"
   ]
  },
  {
   "cell_type": "code",
   "execution_count": null,
   "metadata": {},
   "outputs": [],
   "source": [
    "@doc(update_contact_network!)"
   ]
  },
  {
   "cell_type": "code",
   "execution_count": null,
   "metadata": {},
   "outputs": [],
   "source": [
    "@doc(update_testing_state!)"
   ]
  },
  {
   "cell_type": "markdown",
   "metadata": {},
   "source": [
    "## Top level: `src/network_transmission_workplace.jl`\n",
    "\n",
    "This file calls `transmission_model_framework.jl` and applies the components specific to the delivery workplaces. The main function is described below\n"
   ]
  },
  {
   "cell_type": "code",
   "execution_count": null,
   "metadata": {},
   "outputs": [],
   "source": [
    "@doc(run_sim_delivery_wp)"
   ]
  },
  {
   "cell_type": "markdown",
   "metadata": {},
   "source": [
    "# Examples"
   ]
  },
  {
   "cell_type": "markdown",
   "metadata": {},
   "source": [
    "## Example: Reproducing results in pre-print publication\n",
    "\n",
    "All of the results in the pre-print publication can be reproduced by calling any of the following functions from `Network_workplace_model/src/param_sweeps.jl`. These generate .csv files, which have been converted to .pkl files and stored <a href=\"\">here</a>. The plots can be reproduced using the python notebooks contained <a href=\"\">here</a>. Note that the simulations are stochastic, so outcomes will vary between each run. \n",
    "\n",
    "- `run_testing_sweep_outbreak_parcel`: Generates data used to plot Figure 3\n",
    "- `run_testing_sweep_outbreak_pairs` and `run_testing_sweep_outbreak_pairs_alt`: Generates data used to plot Figure 4\n",
    "- `run_house_share_sweep_parcel` and `run_house_share_sweep_pairs`: Generates data used to plot Figure 5\n",
    "\n",
    "The following functions require 3 inputs `Prev::Array{Float64,1}`, `Inc::Array{Float64,1}`, and `Demand::Array{Float64,1}`, which are the daily prevalence, incidence and demand used in the simulations. Data used for each workplace can be found <a href=\"\">here</a>.\n",
    "\n",
    "- `run_all_interventions_variableprev_scenario_parcel` and `run_all_interventions_variableprev_scenario_parcel_isolfirst`: Generates data used to plot Figure 6\n",
    "- `run_all_interventions_variableprev_scenario_pairs` and `run_all_interventions_variableprev_scenario_parcel_isolfirst`: Generates data used to plot Figure 7\n",
    "- `run_all_interventions_separately_scenario_parcel` and `run_all_interventions_separately_scenario_pairs`: Generates data used to plot Figure 8\n",
    "\n",
    "\n",
    "The following functions are used to reproduce the supplementary figures\n",
    "- `run_param_sweep_outbreak_parcel`: Generates data used to plot Supplementary Fig S6\n",
    "- `run_param_sweep_outbreak_pairs`: Generates data used to plot Supplementary Fig S7\n",
    "- `run_presenteeism_param_sweep_outbreak_parcel`: Generates data used to plot Supplementary Fig S8\n",
    "- `run_presenteeism_param_sweep_outbreak_pairs`: Generates data used to plot Supplementary Fig S9 and S10\n",
    "- `run_param_sweep_outbreak_transmod_parcel` and `run_param_sweep_outbreak_transmod_pairs`: Generates data used to plot Supplementary Fig S11\n",
    "- `run_param_sweep_outbreak_fomite_parcel` and `run_param_sweep_outbreak_fomite_pairs`: Generates data used to plot Supplementary Fig S12\n",
    "- `run_param_sweep_outbreak_wpsize_parcel` and `run_param_sweep_outbreak_wpsize_pairs`: Generates data used to plot Supplementary Fig S13\n",
    "- `run_contact_sweeps_outbreak_parcel` and `run_contacts_sweep_outbreak_pairs`: Generates data used to plot Supplementary Fig S14\n"
   ]
  },
  {
   "cell_type": "markdown",
   "metadata": {},
   "source": [
    "## Example: Running a stand-alone delivery workplace simulation\n",
    "\n",
    "The following demonstrates how to run 10,000 simulations with the same parameters (corresponding to the Baseline parameters for the SPDD setting) and write to \"baseline_params.csv\". Outputs are also stored in the returned dataframe."
   ]
  },
  {
   "cell_type": "code",
   "execution_count": null,
   "metadata": {},
   "outputs": [],
   "source": [
    "OccPattern = repeat(ParcelOccPattern,NweeksDefault)\n",
    "PkgPattern = repeat(ParcelPkgPattern,NweeksDefault)\n",
    "NPvec = Int64.(round.(NPparcel*PkgPattern))\n",
    "PP = Array{Dict{Any,Any},1}(undef,0)\n",
    "PkgP = Array{Dict{Any,Any},1}(undef,0)\n",
    "Infinit = [1,2,3]\n",
    "for ii in Infinit\n",
    "    PPh = copy(BasicParcelParams)\n",
    "    PPh[\"InfInit\"] = ii\n",
    "    push!(PP,PPh)\n",
    "    push!(PkgP,copy(BasicPkgParams))\n",
    "end\n",
    "df = run_many_sims(PP, 10000, OccPattern; NPPerDay = NPvec,\n",
    "                    PkgParams = PkgP, filename=\"baseline_params.csv\")"
   ]
  },
  {
   "cell_type": "markdown",
   "metadata": {},
   "source": [
    "## Example: Creating a simulation with user-generated contact networks\n",
    "\n",
    "The script `simple_workplace_model.jl` provides an example of a pared-back workplace model. \n",
    "\n",
    "The function `generate_random_contact_network!(sim::Dict, i_day::Int)` updates the contact network `sim[\"rand_contact_network\"]` with random contacts between job roles, set by the matrix `sim[\"contact_prob_mat\"]`. Only contacts of infectious individuals are included, for efficiency. This is overwritten each day.\n",
    "\n",
    "The function `generate_graph!(sim::Dict, degree_logmean::Float64, degree_logstd::Float64)` generates a random contact network with lognormal degree distribution, which remains the same throughout the simulation. This is stored in `sim[\"contact_graph\"]`.\n",
    "\n",
    "The function `collate_networks(sim::Dict)` then combined these two graphs into the combined contact network returned by this function, which is then passed to `update_contact_network!`. \n",
    "\n"
   ]
  }
 ],
 "metadata": {
  "kernelspec": {
   "display_name": "Julia 1.7.2",
   "language": "julia",
   "name": "julia-1.7"
  },
  "language_info": {
   "file_extension": ".jl",
   "mimetype": "application/julia",
   "name": "julia",
   "version": "1.7.2"
  }
 },
 "nbformat": 4,
 "nbformat_minor": 2
}
